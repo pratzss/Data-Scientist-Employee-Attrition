{
  "cells": [
    {
      "cell_type": "markdown",
      "id": "wdzuhZ7p2jIM",
      "metadata": {
        "id": "wdzuhZ7p2jIM"
      },
      "source": [
        "# **Data Scientist Employee Attrition - Job Change of data Scientists**\n",
        "\n",
        "----------------------------\n",
        "## **Problem Statement**\n",
        "--------------------------\n",
        "A company that is active in Big data and data Science wants to hire data scientists among people who successfully pass some courses conducted by the company. Many people sign up for their training. The company wants to know which of these candidates want to work for the company after training or looking for new employment because it helps to reduce the cost and time as well as the quality of training or planning the courses and categorization of candidates. Information related to demographics, education and experience is provided by candidates during sign-up and enrollment.\n",
        "\n",
        "This dataset is designed to understand the factors that lead a person to leave their current job, and it is hence useful for HR research. By building a model that uses the current credentials, demographics, and work experience related data, you will predict the probability that a candidate is looking for a new job, as well as interpret the main factors that affect an employee's decision whether to continue or attrite.\n",
        "\n",
        "--------------------------\n",
        "## **Data Description**\n",
        "--------------------------\n",
        "* **Enrollee_id:** Unique ID for candidate\n",
        "\n",
        "* **City:** City code\n",
        "\n",
        "* **City_development_index:** Development index of the city (scaled)\n",
        "\n",
        "* **Gender:** Gender of candidate\n",
        "\n",
        "* **Relevant_experience:** Relevant experience of candidate\n",
        "\n",
        "* **Enrolled_university:** Type of University course enrolled if any\n",
        "\n",
        "* **Education_level:** Education level of candidate\n",
        "\n",
        "* **Major_discipline:** Education major discipline of candidate\n",
        "\n",
        "* **Experience:** Candidate total experience in years\n",
        "\n",
        "* **Company_size:** No of employees in current employer's company\n",
        "\n",
        "* **Company_type:** Type of current employer\n",
        "\n",
        "* **Last_new_job:** Difference in years between previous job and current job\n",
        "\n",
        "* **Training_hours:** training hours completed\n",
        "\n",
        "* **Target:** 0 – Not looking for job change, 1 – Looking for a job change"
      ]
    },
    {
      "cell_type": "markdown",
      "source": [
        "### **Mount the drive**\n",
        "Let us start by mounting the Google drive. You can run the below cell to mount the Google drive."
      ],
      "metadata": {
        "id": "kXOiA1oPXIYS"
      },
      "id": "kXOiA1oPXIYS"
    },
    {
      "cell_type": "code",
      "execution_count": null,
      "id": "5FMTzFwCO1Nk",
      "metadata": {
        "id": "5FMTzFwCO1Nk",
        "colab": {
          "base_uri": "https://localhost:8080/"
        },
        "outputId": "c6495c0c-23d8-495d-ba36-8e51ee26840b"
      },
      "outputs": [
        {
          "output_type": "stream",
          "name": "stdout",
          "text": [
            "Mounted at /content/drive\n"
          ]
        }
      ],
      "source": [
        "# Mounting the Library\n",
        "from google.colab import drive\n",
        "drive.mount('/content/drive')"
      ]
    },
    {
      "cell_type": "markdown",
      "id": "k12UScc581uF",
      "metadata": {
        "id": "k12UScc581uF"
      },
      "source": [
        "### **Importing the necessary libraries**"
      ]
    },
    {
      "cell_type": "code",
      "execution_count": null,
      "id": "f5abb09d",
      "metadata": {
        "id": "f5abb09d"
      },
      "outputs": [],
      "source": [
        "import pandas as pd\n",
        "import numpy as np\n",
        "import matplotlib.pyplot as plt\n",
        "import seaborn as sns\n",
        "from matplotlib import pyplot\n",
        "\n",
        "\n",
        "from sklearn.metrics import roc_curve,classification_report\n",
        "from sklearn.model_selection import train_test_split\n",
        "from sklearn.preprocessing import LabelEncoder, OneHotEncoder\n",
        "from sklearn import model_selection\n",
        "from sklearn.compose import ColumnTransformer\n",
        "from sklearn.impute import SimpleImputer\n",
        "from sklearn.metrics import confusion_matrix\n",
        "from sklearn.pipeline import Pipeline\n",
        "from sklearn.model_selection import GridSearchCV\n",
        "from sklearn.model_selection import RandomizedSearchCV\n",
        "\n",
        "import tensorflow as tf\n",
        "from tensorflow.keras import backend\n",
        "from tensorflow.keras.models import Sequential\n",
        "from tensorflow.keras.layers import Dense\n",
        "from tensorflow.keras.layers import Dense, Input, Dropout,BatchNormalization\n",
        "from tensorflow.keras.wrappers.scikit_learn import KerasClassifier\n",
        "\n",
        "import random\n",
        "random.seed(1)\n",
        "np.random.seed(1) \n",
        "tf.random.set_seed(1)\n",
        "\n",
        "import warnings\n",
        "warnings.filterwarnings(\"ignore\")"
      ]
    },
    {
      "cell_type": "markdown",
      "id": "ZAEqtrQu-VzO",
      "metadata": {
        "id": "ZAEqtrQu-VzO"
      },
      "source": [
        "### **Loading the data**"
      ]
    },
    {
      "cell_type": "code",
      "execution_count": null,
      "id": "f800cd8d",
      "metadata": {
        "id": "f800cd8d"
      },
      "outputs": [],
      "source": [
        "# Importing the dataset\n",
        "data = pd.read_csv('Data.csv')"
      ]
    },
    {
      "cell_type": "code",
      "execution_count": null,
      "id": "BXZyb1vh-c2a",
      "metadata": {
        "colab": {
          "base_uri": "https://localhost:8080/"
        },
        "id": "BXZyb1vh-c2a",
        "outputId": "32cc990a-553a-4839-fe2f-4985ed9f7a73"
      },
      "outputs": [
        {
          "output_type": "execute_result",
          "data": {
            "text/plain": [
              "(19158, 14)"
            ]
          },
          "metadata": {},
          "execution_count": 4
        }
      ],
      "source": [
        "# Checking the number of rows and columns in the data\n",
        "data.shape"
      ]
    },
    {
      "cell_type": "markdown",
      "id": "O9rtKHxB-fy1",
      "metadata": {
        "id": "O9rtKHxB-fy1"
      },
      "source": [
        "* The dataset has 19158 rows and 14 columns"
      ]
    },
    {
      "cell_type": "code",
      "execution_count": null,
      "id": "047c72cc",
      "metadata": {
        "colab": {
          "base_uri": "https://localhost:8080/",
          "height": 305
        },
        "id": "047c72cc",
        "outputId": "e36bbdcb-5c00-4810-9d9d-234f66876113"
      },
      "outputs": [
        {
          "output_type": "execute_result",
          "data": {
            "text/plain": [
              "   Enrollee_id      City  City_development_index Gender  \\\n",
              "0         8949  city_103                   0.920   Male   \n",
              "1        29725   city_40                   0.776   Male   \n",
              "2        11561   city_21                   0.624    NaN   \n",
              "3        33241  city_115                   0.789    NaN   \n",
              "4          666  city_162                   0.767   Male   \n",
              "\n",
              "       Relevant_experience Enrolled_university Education_level  \\\n",
              "0  Has relevent experience       no_enrollment        Graduate   \n",
              "1   No relevent experience       no_enrollment        Graduate   \n",
              "2   No relevent experience    Full time course        Graduate   \n",
              "3   No relevent experience                 NaN        Graduate   \n",
              "4  Has relevent experience       no_enrollment         Masters   \n",
              "\n",
              "  Major_discipline Experience Company_size    Company_type Last_new_job  \\\n",
              "0             STEM        >20          NaN             NaN            1   \n",
              "1             STEM         15        50-99         Pvt Ltd           >4   \n",
              "2             STEM          5          NaN             NaN        never   \n",
              "3  Business Degree         <1          NaN         Pvt Ltd        never   \n",
              "4             STEM        >20        50-99  Funded Startup            4   \n",
              "\n",
              "   Training_hours  Target  \n",
              "0              36       1  \n",
              "1              47       0  \n",
              "2              83       0  \n",
              "3              52       1  \n",
              "4               8       0  "
            ],
            "text/html": [
              "\n",
              "  <div id=\"df-6e649773-a06e-4cc3-bce6-b8d277deb4f2\">\n",
              "    <div class=\"colab-df-container\">\n",
              "      <div>\n",
              "<style scoped>\n",
              "    .dataframe tbody tr th:only-of-type {\n",
              "        vertical-align: middle;\n",
              "    }\n",
              "\n",
              "    .dataframe tbody tr th {\n",
              "        vertical-align: top;\n",
              "    }\n",
              "\n",
              "    .dataframe thead th {\n",
              "        text-align: right;\n",
              "    }\n",
              "</style>\n",
              "<table border=\"1\" class=\"dataframe\">\n",
              "  <thead>\n",
              "    <tr style=\"text-align: right;\">\n",
              "      <th></th>\n",
              "      <th>Enrollee_id</th>\n",
              "      <th>City</th>\n",
              "      <th>City_development_index</th>\n",
              "      <th>Gender</th>\n",
              "      <th>Relevant_experience</th>\n",
              "      <th>Enrolled_university</th>\n",
              "      <th>Education_level</th>\n",
              "      <th>Major_discipline</th>\n",
              "      <th>Experience</th>\n",
              "      <th>Company_size</th>\n",
              "      <th>Company_type</th>\n",
              "      <th>Last_new_job</th>\n",
              "      <th>Training_hours</th>\n",
              "      <th>Target</th>\n",
              "    </tr>\n",
              "  </thead>\n",
              "  <tbody>\n",
              "    <tr>\n",
              "      <th>0</th>\n",
              "      <td>8949</td>\n",
              "      <td>city_103</td>\n",
              "      <td>0.920</td>\n",
              "      <td>Male</td>\n",
              "      <td>Has relevent experience</td>\n",
              "      <td>no_enrollment</td>\n",
              "      <td>Graduate</td>\n",
              "      <td>STEM</td>\n",
              "      <td>&gt;20</td>\n",
              "      <td>NaN</td>\n",
              "      <td>NaN</td>\n",
              "      <td>1</td>\n",
              "      <td>36</td>\n",
              "      <td>1</td>\n",
              "    </tr>\n",
              "    <tr>\n",
              "      <th>1</th>\n",
              "      <td>29725</td>\n",
              "      <td>city_40</td>\n",
              "      <td>0.776</td>\n",
              "      <td>Male</td>\n",
              "      <td>No relevent experience</td>\n",
              "      <td>no_enrollment</td>\n",
              "      <td>Graduate</td>\n",
              "      <td>STEM</td>\n",
              "      <td>15</td>\n",
              "      <td>50-99</td>\n",
              "      <td>Pvt Ltd</td>\n",
              "      <td>&gt;4</td>\n",
              "      <td>47</td>\n",
              "      <td>0</td>\n",
              "    </tr>\n",
              "    <tr>\n",
              "      <th>2</th>\n",
              "      <td>11561</td>\n",
              "      <td>city_21</td>\n",
              "      <td>0.624</td>\n",
              "      <td>NaN</td>\n",
              "      <td>No relevent experience</td>\n",
              "      <td>Full time course</td>\n",
              "      <td>Graduate</td>\n",
              "      <td>STEM</td>\n",
              "      <td>5</td>\n",
              "      <td>NaN</td>\n",
              "      <td>NaN</td>\n",
              "      <td>never</td>\n",
              "      <td>83</td>\n",
              "      <td>0</td>\n",
              "    </tr>\n",
              "    <tr>\n",
              "      <th>3</th>\n",
              "      <td>33241</td>\n",
              "      <td>city_115</td>\n",
              "      <td>0.789</td>\n",
              "      <td>NaN</td>\n",
              "      <td>No relevent experience</td>\n",
              "      <td>NaN</td>\n",
              "      <td>Graduate</td>\n",
              "      <td>Business Degree</td>\n",
              "      <td>&lt;1</td>\n",
              "      <td>NaN</td>\n",
              "      <td>Pvt Ltd</td>\n",
              "      <td>never</td>\n",
              "      <td>52</td>\n",
              "      <td>1</td>\n",
              "    </tr>\n",
              "    <tr>\n",
              "      <th>4</th>\n",
              "      <td>666</td>\n",
              "      <td>city_162</td>\n",
              "      <td>0.767</td>\n",
              "      <td>Male</td>\n",
              "      <td>Has relevent experience</td>\n",
              "      <td>no_enrollment</td>\n",
              "      <td>Masters</td>\n",
              "      <td>STEM</td>\n",
              "      <td>&gt;20</td>\n",
              "      <td>50-99</td>\n",
              "      <td>Funded Startup</td>\n",
              "      <td>4</td>\n",
              "      <td>8</td>\n",
              "      <td>0</td>\n",
              "    </tr>\n",
              "  </tbody>\n",
              "</table>\n",
              "</div>\n",
              "      <button class=\"colab-df-convert\" onclick=\"convertToInteractive('df-6e649773-a06e-4cc3-bce6-b8d277deb4f2')\"\n",
              "              title=\"Convert this dataframe to an interactive table.\"\n",
              "              style=\"display:none;\">\n",
              "        \n",
              "  <svg xmlns=\"http://www.w3.org/2000/svg\" height=\"24px\"viewBox=\"0 0 24 24\"\n",
              "       width=\"24px\">\n",
              "    <path d=\"M0 0h24v24H0V0z\" fill=\"none\"/>\n",
              "    <path d=\"M18.56 5.44l.94 2.06.94-2.06 2.06-.94-2.06-.94-.94-2.06-.94 2.06-2.06.94zm-11 1L8.5 8.5l.94-2.06 2.06-.94-2.06-.94L8.5 2.5l-.94 2.06-2.06.94zm10 10l.94 2.06.94-2.06 2.06-.94-2.06-.94-.94-2.06-.94 2.06-2.06.94z\"/><path d=\"M17.41 7.96l-1.37-1.37c-.4-.4-.92-.59-1.43-.59-.52 0-1.04.2-1.43.59L10.3 9.45l-7.72 7.72c-.78.78-.78 2.05 0 2.83L4 21.41c.39.39.9.59 1.41.59.51 0 1.02-.2 1.41-.59l7.78-7.78 2.81-2.81c.8-.78.8-2.07 0-2.86zM5.41 20L4 18.59l7.72-7.72 1.47 1.35L5.41 20z\"/>\n",
              "  </svg>\n",
              "      </button>\n",
              "      \n",
              "  <style>\n",
              "    .colab-df-container {\n",
              "      display:flex;\n",
              "      flex-wrap:wrap;\n",
              "      gap: 12px;\n",
              "    }\n",
              "\n",
              "    .colab-df-convert {\n",
              "      background-color: #E8F0FE;\n",
              "      border: none;\n",
              "      border-radius: 50%;\n",
              "      cursor: pointer;\n",
              "      display: none;\n",
              "      fill: #1967D2;\n",
              "      height: 32px;\n",
              "      padding: 0 0 0 0;\n",
              "      width: 32px;\n",
              "    }\n",
              "\n",
              "    .colab-df-convert:hover {\n",
              "      background-color: #E2EBFA;\n",
              "      box-shadow: 0px 1px 2px rgba(60, 64, 67, 0.3), 0px 1px 3px 1px rgba(60, 64, 67, 0.15);\n",
              "      fill: #174EA6;\n",
              "    }\n",
              "\n",
              "    [theme=dark] .colab-df-convert {\n",
              "      background-color: #3B4455;\n",
              "      fill: #D2E3FC;\n",
              "    }\n",
              "\n",
              "    [theme=dark] .colab-df-convert:hover {\n",
              "      background-color: #434B5C;\n",
              "      box-shadow: 0px 1px 3px 1px rgba(0, 0, 0, 0.15);\n",
              "      filter: drop-shadow(0px 1px 2px rgba(0, 0, 0, 0.3));\n",
              "      fill: #FFFFFF;\n",
              "    }\n",
              "  </style>\n",
              "\n",
              "      <script>\n",
              "        const buttonEl =\n",
              "          document.querySelector('#df-6e649773-a06e-4cc3-bce6-b8d277deb4f2 button.colab-df-convert');\n",
              "        buttonEl.style.display =\n",
              "          google.colab.kernel.accessAllowed ? 'block' : 'none';\n",
              "\n",
              "        async function convertToInteractive(key) {\n",
              "          const element = document.querySelector('#df-6e649773-a06e-4cc3-bce6-b8d277deb4f2');\n",
              "          const dataTable =\n",
              "            await google.colab.kernel.invokeFunction('convertToInteractive',\n",
              "                                                     [key], {});\n",
              "          if (!dataTable) return;\n",
              "\n",
              "          const docLinkHtml = 'Like what you see? Visit the ' +\n",
              "            '<a target=\"_blank\" href=https://colab.research.google.com/notebooks/data_table.ipynb>data table notebook</a>'\n",
              "            + ' to learn more about interactive tables.';\n",
              "          element.innerHTML = '';\n",
              "          dataTable['output_type'] = 'display_data';\n",
              "          await google.colab.output.renderOutput(dataTable, element);\n",
              "          const docLink = document.createElement('div');\n",
              "          docLink.innerHTML = docLinkHtml;\n",
              "          element.appendChild(docLink);\n",
              "        }\n",
              "      </script>\n",
              "    </div>\n",
              "  </div>\n",
              "  "
            ]
          },
          "metadata": {},
          "execution_count": 5
        }
      ],
      "source": [
        "# Let's view the first 5 rows of the data\n",
        "data.head()"
      ]
    },
    {
      "cell_type": "markdown",
      "id": "6BoKgZyQ-nAF",
      "metadata": {
        "id": "6BoKgZyQ-nAF"
      },
      "source": [
        "## **Exploratory Data Analysis**"
      ]
    },
    {
      "cell_type": "markdown",
      "source": [
        "**Let's check the info of the data**"
      ],
      "metadata": {
        "id": "sDUs9dNJYR_5"
      },
      "id": "sDUs9dNJYR_5"
    },
    {
      "cell_type": "code",
      "execution_count": null,
      "id": "x0A5qifV-vDu",
      "metadata": {
        "colab": {
          "base_uri": "https://localhost:8080/"
        },
        "id": "x0A5qifV-vDu",
        "outputId": "671d4105-d31b-4ea3-d0b7-81cc0b514c95"
      },
      "outputs": [
        {
          "output_type": "stream",
          "name": "stdout",
          "text": [
            "<class 'pandas.core.frame.DataFrame'>\n",
            "RangeIndex: 19158 entries, 0 to 19157\n",
            "Data columns (total 14 columns):\n",
            " #   Column                  Non-Null Count  Dtype  \n",
            "---  ------                  --------------  -----  \n",
            " 0   Enrollee_id             19158 non-null  int64  \n",
            " 1   City                    19158 non-null  object \n",
            " 2   City_development_index  19158 non-null  float64\n",
            " 3   Gender                  14650 non-null  object \n",
            " 4   Relevant_experience     19158 non-null  object \n",
            " 5   Enrolled_university     18772 non-null  object \n",
            " 6   Education_level         18698 non-null  object \n",
            " 7   Major_discipline        16345 non-null  object \n",
            " 8   Experience              19093 non-null  object \n",
            " 9   Company_size            13220 non-null  object \n",
            " 10  Company_type            13018 non-null  object \n",
            " 11  Last_new_job            18735 non-null  object \n",
            " 12  Training_hours          19158 non-null  int64  \n",
            " 13  Target                  19158 non-null  int64  \n",
            "dtypes: float64(1), int64(3), object(10)\n",
            "memory usage: 2.0+ MB\n"
          ]
        }
      ],
      "source": [
        "# Let's check the datatypes of the columns in the dataset\n",
        "data.info()"
      ]
    },
    {
      "cell_type": "markdown",
      "id": "CWjFgdkn_K3b",
      "metadata": {
        "id": "CWjFgdkn_K3b"
      },
      "source": [
        "**Observations:**\n",
        "\n",
        "* There are **19,158  observations and 14 columns** in the data.\n",
        "* **10 columns** are of the **object** datatype and **4 columns** are **numerical**.\n"
      ]
    },
    {
      "cell_type": "markdown",
      "source": [
        "**Let's check if there are any duplicate rows in the data**"
      ],
      "metadata": {
        "id": "-JOPNTNu9Lsz"
      },
      "id": "-JOPNTNu9Lsz"
    },
    {
      "cell_type": "code",
      "execution_count": null,
      "id": "C1KuMSWr-vAW",
      "metadata": {
        "colab": {
          "base_uri": "https://localhost:8080/"
        },
        "id": "C1KuMSWr-vAW",
        "outputId": "e88a0156-619d-4045-d394-ff0b881f5068"
      },
      "outputs": [
        {
          "output_type": "execute_result",
          "data": {
            "text/plain": [
              "0"
            ]
          },
          "metadata": {},
          "execution_count": 8
        }
      ],
      "source": [
        "# Let's check for duplicate values in the data\n",
        "data.duplicated().sum()"
      ]
    },
    {
      "cell_type": "markdown",
      "source": [
        "**Observations:**\n",
        "\n",
        "* There are no duplicate rows in the data."
      ],
      "metadata": {
        "id": "eTTQth1h9iMk"
      },
      "id": "eTTQth1h9iMk"
    },
    {
      "cell_type": "markdown",
      "source": [
        "**Let's check the number of unique values in each column**\n"
      ],
      "metadata": {
        "id": "seKRmHbr-zCA"
      },
      "id": "seKRmHbr-zCA"
    },
    {
      "cell_type": "code",
      "execution_count": null,
      "id": "sfJAjYVl7H9B",
      "metadata": {
        "colab": {
          "base_uri": "https://localhost:8080/"
        },
        "id": "sfJAjYVl7H9B",
        "outputId": "c7dd959d-671b-496f-d634-86023aeb2165"
      },
      "outputs": [
        {
          "output_type": "execute_result",
          "data": {
            "text/plain": [
              "Enrollee_id               19158\n",
              "City                        123\n",
              "City_development_index       93\n",
              "Gender                        3\n",
              "Relevant_experience           2\n",
              "Enrolled_university           3\n",
              "Education_level               5\n",
              "Major_discipline              6\n",
              "Experience                   22\n",
              "Company_size                  8\n",
              "Company_type                  6\n",
              "Last_new_job                  6\n",
              "Training_hours              241\n",
              "Target                        2\n",
              "dtype: int64"
            ]
          },
          "metadata": {},
          "execution_count": 12
        }
      ],
      "source": [
        "data.nunique()"
      ]
    },
    {
      "cell_type": "code",
      "execution_count": null,
      "id": "cDSEGGbP7nGS",
      "metadata": {
        "colab": {
          "base_uri": "https://localhost:8080/"
        },
        "id": "cDSEGGbP7nGS",
        "outputId": "6116a5be-9241-456d-b9c5-330b72570df3"
      },
      "outputs": [
        {
          "output_type": "stream",
          "name": "stdout",
          "text": [
            "Unique values in City are :\n",
            "city_103    0.227320\n",
            "city_21     0.141038\n",
            "city_16     0.080019\n",
            "city_114    0.069736\n",
            "city_160    0.044107\n",
            "              ...   \n",
            "city_129    0.000157\n",
            "city_111    0.000157\n",
            "city_121    0.000157\n",
            "city_140    0.000052\n",
            "city_171    0.000052\n",
            "Name: City, Length: 123, dtype: float64\n",
            "**************************************************\n",
            "Unique values in Gender are :\n",
            "Male      0.902457\n",
            "Female    0.084505\n",
            "Other     0.013038\n",
            "Name: Gender, dtype: float64\n",
            "**************************************************\n",
            "Unique values in Relevant_experience are :\n",
            "Has relevent experience    0.719908\n",
            "No relevent experience     0.280092\n",
            "Name: Relevant_experience, dtype: float64\n",
            "**************************************************\n",
            "Unique values in Enrolled_university are :\n",
            "no_enrollment       0.736043\n",
            "Full time course    0.200139\n",
            "Part time course    0.063818\n",
            "Name: Enrolled_university, dtype: float64\n",
            "**************************************************\n",
            "Unique values in Education_level are :\n",
            "Graduate          0.620280\n",
            "Masters           0.233234\n",
            "High School       0.107872\n",
            "Phd               0.022141\n",
            "Primary School    0.016472\n",
            "Name: Education_level, dtype: float64\n",
            "**************************************************\n",
            "Unique values in Major_discipline are :\n",
            "STEM               0.886632\n",
            "Humanities         0.040930\n",
            "Other              0.023310\n",
            "Business Degree    0.020006\n",
            "Arts               0.015479\n",
            "No Major           0.013643\n",
            "Name: Major_discipline, dtype: float64\n",
            "**************************************************\n",
            "Unique values in Experience are :\n",
            ">20    0.172105\n",
            "5      0.074897\n",
            "4      0.073482\n",
            "3      0.070916\n",
            "6      0.063688\n",
            "2      0.059027\n",
            "7      0.053842\n",
            "10     0.051590\n",
            "9      0.051328\n",
            "8      0.042005\n",
            "15     0.035929\n",
            "11     0.034777\n",
            "14     0.030692\n",
            "1      0.028754\n",
            "<1     0.027340\n",
            "16     0.026607\n",
            "12     0.025873\n",
            "13     0.020898\n",
            "17     0.017912\n",
            "19     0.015922\n",
            "18     0.014665\n",
            "20     0.007752\n",
            "Name: Experience, dtype: float64\n",
            "**************************************************\n",
            "Unique values in Company_size are :\n",
            "50-99        0.233207\n",
            "100-500      0.194478\n",
            "10000+       0.152723\n",
            "Oct-49       0.111271\n",
            "1000-4999    0.100454\n",
            "<10          0.098941\n",
            "500-999      0.066339\n",
            "5000-9999    0.042587\n",
            "Name: Company_size, dtype: float64\n",
            "**************************************************\n",
            "Unique values in Company_type are :\n",
            "Pvt Ltd                0.754110\n",
            "Funded Startup         0.076894\n",
            "Public Sector          0.073360\n",
            "Early Stage Startup    0.046320\n",
            "NGO                    0.040022\n",
            "Other                  0.009295\n",
            "Name: Company_type, dtype: float64\n",
            "**************************************************\n",
            "Unique values in Last_new_job are :\n",
            "1        0.429143\n",
            ">4       0.175607\n",
            "2        0.154790\n",
            "never    0.130878\n",
            "4        0.054924\n",
            "3        0.054657\n",
            "Name: Last_new_job, dtype: float64\n",
            "**************************************************\n"
          ]
        }
      ],
      "source": [
        "for i in data.describe(include=[\"object\"]).columns:\n",
        "    print(\"Unique values in\", i, \"are :\")\n",
        "    print(data[i].value_counts(normalize = True))\n",
        "    print(\"*\" * 50)"
      ]
    },
    {
      "cell_type": "markdown",
      "id": "uZy9gY7HLm_J",
      "metadata": {
        "id": "uZy9gY7HLm_J"
      },
      "source": [
        "**Observations:**\n",
        "* Each value of the column **'Employee_id'** is a **unique identifier** for an employee. Hence we can drop this column as it will not add any predictive power or value to the model.\n",
        "* The **'City'** column has **123 unique** categories, and the city with the highest number of employees is City 103.\n",
        "* Over **90% of the employees** in this dataset are **males**, so it is highly **gender-skewed**.\n",
        "* Most of the **employees (~70%)** have relevant experience in data Science.\n",
        "* **70%** of the employees **did not enroll** in any of the courses.\n",
        "* Most of the employees have a **Bachelor's level of education**(Graduation) but not more than that (~62% of the total number of employees). There are very **few employees** with **Master's degrees and PhDs.**\n",
        "* Almost all the **employees** have **previous experience** (Related and Non-Related).\n",
        "* ~75% **bold text** of the employees are from **private companies.**"
      ]
    },
    {
      "cell_type": "markdown",
      "source": [
        "### **Summary Statistics**"
      ],
      "metadata": {
        "id": "Aaducy2S-Bo7"
      },
      "id": "Aaducy2S-Bo7"
    },
    {
      "cell_type": "code",
      "execution_count": null,
      "id": "CWmq6tIC-u1V",
      "metadata": {
        "colab": {
          "base_uri": "https://localhost:8080/",
          "height": 175
        },
        "id": "CWmq6tIC-u1V",
        "outputId": "eadae2f1-3bed-408e-e497-74d7d1fac573"
      },
      "outputs": [
        {
          "output_type": "execute_result",
          "data": {
            "text/plain": [
              "                          count          mean          std    min      25%  \\\n",
              "Enrollee_id             19158.0  16875.358179  9616.292592  1.000  8554.25   \n",
              "City_development_index  19158.0      0.828848     0.123362  0.448     0.74   \n",
              "Training_hours          19158.0     65.366896    60.058462  1.000    23.00   \n",
              "Target                  19158.0      0.249348     0.432647  0.000     0.00   \n",
              "\n",
              "                              50%       75%        max  \n",
              "Enrollee_id             16982.500  25169.75  33380.000  \n",
              "City_development_index      0.903      0.92      0.949  \n",
              "Training_hours             47.000     88.00    336.000  \n",
              "Target                      0.000      0.00      1.000  "
            ],
            "text/html": [
              "\n",
              "  <div id=\"df-b4018309-5e01-49db-9f35-ec043615a22f\">\n",
              "    <div class=\"colab-df-container\">\n",
              "      <div>\n",
              "<style scoped>\n",
              "    .dataframe tbody tr th:only-of-type {\n",
              "        vertical-align: middle;\n",
              "    }\n",
              "\n",
              "    .dataframe tbody tr th {\n",
              "        vertical-align: top;\n",
              "    }\n",
              "\n",
              "    .dataframe thead th {\n",
              "        text-align: right;\n",
              "    }\n",
              "</style>\n",
              "<table border=\"1\" class=\"dataframe\">\n",
              "  <thead>\n",
              "    <tr style=\"text-align: right;\">\n",
              "      <th></th>\n",
              "      <th>count</th>\n",
              "      <th>mean</th>\n",
              "      <th>std</th>\n",
              "      <th>min</th>\n",
              "      <th>25%</th>\n",
              "      <th>50%</th>\n",
              "      <th>75%</th>\n",
              "      <th>max</th>\n",
              "    </tr>\n",
              "  </thead>\n",
              "  <tbody>\n",
              "    <tr>\n",
              "      <th>Enrollee_id</th>\n",
              "      <td>19158.0</td>\n",
              "      <td>16875.358179</td>\n",
              "      <td>9616.292592</td>\n",
              "      <td>1.000</td>\n",
              "      <td>8554.25</td>\n",
              "      <td>16982.500</td>\n",
              "      <td>25169.75</td>\n",
              "      <td>33380.000</td>\n",
              "    </tr>\n",
              "    <tr>\n",
              "      <th>City_development_index</th>\n",
              "      <td>19158.0</td>\n",
              "      <td>0.828848</td>\n",
              "      <td>0.123362</td>\n",
              "      <td>0.448</td>\n",
              "      <td>0.74</td>\n",
              "      <td>0.903</td>\n",
              "      <td>0.92</td>\n",
              "      <td>0.949</td>\n",
              "    </tr>\n",
              "    <tr>\n",
              "      <th>Training_hours</th>\n",
              "      <td>19158.0</td>\n",
              "      <td>65.366896</td>\n",
              "      <td>60.058462</td>\n",
              "      <td>1.000</td>\n",
              "      <td>23.00</td>\n",
              "      <td>47.000</td>\n",
              "      <td>88.00</td>\n",
              "      <td>336.000</td>\n",
              "    </tr>\n",
              "    <tr>\n",
              "      <th>Target</th>\n",
              "      <td>19158.0</td>\n",
              "      <td>0.249348</td>\n",
              "      <td>0.432647</td>\n",
              "      <td>0.000</td>\n",
              "      <td>0.00</td>\n",
              "      <td>0.000</td>\n",
              "      <td>0.00</td>\n",
              "      <td>1.000</td>\n",
              "    </tr>\n",
              "  </tbody>\n",
              "</table>\n",
              "</div>\n",
              "      <button class=\"colab-df-convert\" onclick=\"convertToInteractive('df-b4018309-5e01-49db-9f35-ec043615a22f')\"\n",
              "              title=\"Convert this dataframe to an interactive table.\"\n",
              "              style=\"display:none;\">\n",
              "        \n",
              "  <svg xmlns=\"http://www.w3.org/2000/svg\" height=\"24px\"viewBox=\"0 0 24 24\"\n",
              "       width=\"24px\">\n",
              "    <path d=\"M0 0h24v24H0V0z\" fill=\"none\"/>\n",
              "    <path d=\"M18.56 5.44l.94 2.06.94-2.06 2.06-.94-2.06-.94-.94-2.06-.94 2.06-2.06.94zm-11 1L8.5 8.5l.94-2.06 2.06-.94-2.06-.94L8.5 2.5l-.94 2.06-2.06.94zm10 10l.94 2.06.94-2.06 2.06-.94-2.06-.94-.94-2.06-.94 2.06-2.06.94z\"/><path d=\"M17.41 7.96l-1.37-1.37c-.4-.4-.92-.59-1.43-.59-.52 0-1.04.2-1.43.59L10.3 9.45l-7.72 7.72c-.78.78-.78 2.05 0 2.83L4 21.41c.39.39.9.59 1.41.59.51 0 1.02-.2 1.41-.59l7.78-7.78 2.81-2.81c.8-.78.8-2.07 0-2.86zM5.41 20L4 18.59l7.72-7.72 1.47 1.35L5.41 20z\"/>\n",
              "  </svg>\n",
              "      </button>\n",
              "      \n",
              "  <style>\n",
              "    .colab-df-container {\n",
              "      display:flex;\n",
              "      flex-wrap:wrap;\n",
              "      gap: 12px;\n",
              "    }\n",
              "\n",
              "    .colab-df-convert {\n",
              "      background-color: #E8F0FE;\n",
              "      border: none;\n",
              "      border-radius: 50%;\n",
              "      cursor: pointer;\n",
              "      display: none;\n",
              "      fill: #1967D2;\n",
              "      height: 32px;\n",
              "      padding: 0 0 0 0;\n",
              "      width: 32px;\n",
              "    }\n",
              "\n",
              "    .colab-df-convert:hover {\n",
              "      background-color: #E2EBFA;\n",
              "      box-shadow: 0px 1px 2px rgba(60, 64, 67, 0.3), 0px 1px 3px 1px rgba(60, 64, 67, 0.15);\n",
              "      fill: #174EA6;\n",
              "    }\n",
              "\n",
              "    [theme=dark] .colab-df-convert {\n",
              "      background-color: #3B4455;\n",
              "      fill: #D2E3FC;\n",
              "    }\n",
              "\n",
              "    [theme=dark] .colab-df-convert:hover {\n",
              "      background-color: #434B5C;\n",
              "      box-shadow: 0px 1px 3px 1px rgba(0, 0, 0, 0.15);\n",
              "      filter: drop-shadow(0px 1px 2px rgba(0, 0, 0, 0.3));\n",
              "      fill: #FFFFFF;\n",
              "    }\n",
              "  </style>\n",
              "\n",
              "      <script>\n",
              "        const buttonEl =\n",
              "          document.querySelector('#df-b4018309-5e01-49db-9f35-ec043615a22f button.colab-df-convert');\n",
              "        buttonEl.style.display =\n",
              "          google.colab.kernel.accessAllowed ? 'block' : 'none';\n",
              "\n",
              "        async function convertToInteractive(key) {\n",
              "          const element = document.querySelector('#df-b4018309-5e01-49db-9f35-ec043615a22f');\n",
              "          const dataTable =\n",
              "            await google.colab.kernel.invokeFunction('convertToInteractive',\n",
              "                                                     [key], {});\n",
              "          if (!dataTable) return;\n",
              "\n",
              "          const docLinkHtml = 'Like what you see? Visit the ' +\n",
              "            '<a target=\"_blank\" href=https://colab.research.google.com/notebooks/data_table.ipynb>data table notebook</a>'\n",
              "            + ' to learn more about interactive tables.';\n",
              "          element.innerHTML = '';\n",
              "          dataTable['output_type'] = 'display_data';\n",
              "          await google.colab.output.renderOutput(dataTable, element);\n",
              "          const docLink = document.createElement('div');\n",
              "          docLink.innerHTML = docLinkHtml;\n",
              "          element.appendChild(docLink);\n",
              "        }\n",
              "      </script>\n",
              "    </div>\n",
              "  </div>\n",
              "  "
            ]
          },
          "metadata": {},
          "execution_count": 11
        }
      ],
      "source": [
        "# Let's view the statistical summary of the numerical columns in the data\n",
        "data.describe().T"
      ]
    },
    {
      "cell_type": "markdown",
      "id": "dEFm1ojXAMrI",
      "metadata": {
        "id": "dEFm1ojXAMrI"
      },
      "source": [
        "**Observations:**\n",
        "\n",
        "* Outside of the **Enrollee_id** (an ID column) and the **Target variable**, there are only **two numerical columns** in the dataset.\n",
        "* The **maximum** number of **training hours is 336**, but at least **75% of employees** had finished their training within **88 hours**.\n",
        "* **50% of the rows** have a city development index **between 0.903 and 0.949**, so the dataset is weighted towards the higher side with respect to this column.\n"
      ]
    },
    {
      "cell_type": "markdown",
      "id": "U8pF1VrgQnCR",
      "metadata": {
        "id": "U8pF1VrgQnCR"
      },
      "source": [
        "## **Univariate Analysis**"
      ]
    },
    {
      "cell_type": "code",
      "execution_count": null,
      "id": "fdb0b49f",
      "metadata": {
        "id": "fdb0b49f"
      },
      "outputs": [],
      "source": [
        "def hist_box(col):\n",
        "    # Cut the window in 2 parts\n",
        "    f, (ax_box, ax_hist) = plt.subplots(2, sharex=True, gridspec_kw={\"height_ratios\": (.15, .85)},figsize=(10,5))\n",
        "    sns.set(style=\"darkgrid\")\n",
        "    \n",
        "    # Add a graph in each part\n",
        "    sns.boxplot(data[col], ax=ax_box,showmeans=True)\n",
        "    sns.distplot(data[col], ax=ax_hist)\n",
        "    ax_hist.axvline(data[col].mean(), color=\"green\", linestyle=\"--\") # Green line corresponds to mean in the plot\n",
        "    ax_hist.axvline(data[col].median(), color=\"orange\", linestyle=\"-\") # Orange line corresponds to median in the plot\n",
        "    ax_box.set(xlabel='col')\n",
        "    plt.show()"
      ]
    },
    {
      "cell_type": "markdown",
      "id": "fe8ccb4c",
      "metadata": {
        "id": "fe8ccb4c"
      },
      "source": [
        "### **Observations on City_development_index**"
      ]
    },
    {
      "cell_type": "code",
      "execution_count": null,
      "id": "0e7d5294",
      "metadata": {
        "id": "0e7d5294",
        "outputId": "6670b272-dd9f-4ebd-e924-bbc39a28b4fd",
        "colab": {
          "base_uri": "https://localhost:8080/",
          "height": 335
        }
      },
      "outputs": [
        {
          "output_type": "display_data",
          "data": {
            "text/plain": [
              "<Figure size 720x360 with 2 Axes>"
            ],
            "image/png": "[encoded data removed]"
          },
          "metadata": {
            "needs_background": "light"
          }
        }
      ],
      "source": [
        "hist_box('City_development_index')"
      ]
    },
    {
      "cell_type": "markdown",
      "id": "o9dSL-tlmXas",
      "metadata": {
        "id": "o9dSL-tlmXas"
      },
      "source": [
        "**Observations:**\n",
        "\n",
        "* From the above plot, we observe that there are many people from cities having a development index more than 0.9. "
      ]
    },
    {
      "cell_type": "markdown",
      "id": "c4972fb1",
      "metadata": {
        "id": "c4972fb1"
      },
      "source": [
        "### **Observations on Training Hours**"
      ]
    },
    {
      "cell_type": "code",
      "execution_count": null,
      "id": "4gmslfoXQt-k",
      "metadata": {
        "colab": {
          "base_uri": "https://localhost:8080/",
          "height": 339
        },
        "id": "4gmslfoXQt-k",
        "outputId": "9cb4fed2-39ab-4230-8bd9-fc59c6a0f703"
      },
      "outputs": [
        {
          "output_type": "display_data",
          "data": {
            "text/plain": [
              "<Figure size 720x360 with 2 Axes>"
            ],
            "image/png": "[encoded data removed]"
          },
          "metadata": {}
        }
      ],
      "source": [
        "hist_box('Training_hours')"
      ]
    },
    {
      "cell_type": "markdown",
      "id": "4H9Lkwaim6-f",
      "metadata": {
        "id": "4H9Lkwaim6-f"
      },
      "source": [
        "**Observations:**\n",
        "\n",
        "* From the plot, we observe that the measures of central tendency with respect to training hours seem to be 70, despite a maximum value of over 300 hours. So most of the people in this dataset have undergone training for less than 100 hours."
      ]
    },
    {
      "cell_type": "code",
      "execution_count": null,
      "id": "6061308b",
      "metadata": {
        "colab": {
          "base_uri": "https://localhost:8080/",
          "height": 324
        },
        "id": "6061308b",
        "outputId": "0a3c7c66-d78e-41c0-c23c-15be2ab07d88"
      },
      "outputs": [
        {
          "output_type": "display_data",
          "data": {
            "text/plain": [
              "<Figure size 504x360 with 1 Axes>"
            ],
            "image/png": "[encoded data removed]"
          },
          "metadata": {}
        }
      ],
      "source": [
        "labels = 'Looking for job change', 'Not Looking for job change'\n",
        "sizes = [data.Target[data['Target']==1].count(),data.Target[data['Target']==0].count()]\n",
        "\n",
        "explode = (0, 0.1)\n",
        "fig1, ax1 = plt.subplots(figsize=(7, 5))\n",
        "ax1.pie(sizes, explode=explode, labels=labels, autopct='%1.1f%%',\n",
        "        shadow=True, startangle=90)\n",
        "ax1.axis('equal')\n",
        "plt.title(\"Proportion\", size = 20)\n",
        "plt.show()"
      ]
    },
    {
      "cell_type": "markdown",
      "id": "EgfD7nmiY1t9",
      "metadata": {
        "id": "EgfD7nmiY1t9"
      },
      "source": [
        "**Observations:**\n",
        "\n",
        "* This pie chart shows that the actual distribution of classes is itself imbalanced for the target variable.\n",
        "* Only ~25% of the employees in this dataset are looking for a job change.\n",
        "\n",
        "Hence, this dataset and problem statement represent an example of Imbalanced Classification, which has unique challenges in comparison to performing classification over balanced target variables."
      ]
    },
    {
      "cell_type": "markdown",
      "id": "U1PzjsuNa12g",
      "metadata": {
        "id": "U1PzjsuNa12g"
      },
      "source": [
        "## **Bivariate Analysis**"
      ]
    },
    {
      "cell_type": "markdown",
      "id": "c29335d6",
      "metadata": {
        "id": "c29335d6"
      },
      "source": [
        "### **Target vs Gender**"
      ]
    },
    {
      "cell_type": "code",
      "execution_count": null,
      "id": "e7e74f54",
      "metadata": {
        "id": "e7e74f54",
        "outputId": "9d2c1f1a-f39f-45ba-fa90-df2b462beffc",
        "colab": {
          "base_uri": "https://localhost:8080/",
          "height": 315
        }
      },
      "outputs": [
        {
          "output_type": "display_data",
          "data": {
            "text/plain": [
              "<Figure size 576x288 with 1 Axes>"
            ],
            "image/png": "[encoded data removed]"
          },
          "metadata": {}
        }
      ],
      "source": [
        "(pd.crosstab(data['Gender'],data['Target'],normalize='index')*100).plot(kind='bar',figsize=(8,4),stacked=True)\n",
        "plt.ylabel('Percentage Attrition %')\n",
        "plt.show()"
      ]
    },
    {
      "cell_type": "markdown",
      "id": "oasStU8w3cj4",
      "metadata": {
        "id": "oasStU8w3cj4"
      },
      "source": [
        "**Observations:**\n",
        "\n",
        "* From the above plot, it is observed that the likelihood of the employee choosing a job switch does not depend on their gender."
      ]
    },
    {
      "cell_type": "markdown",
      "id": "4d2d0ea8",
      "metadata": {
        "id": "4d2d0ea8"
      },
      "source": [
        "### **Target vs Relevant_experience**"
      ]
    },
    {
      "cell_type": "code",
      "execution_count": null,
      "id": "pAQ5eoavZJmD",
      "metadata": {
        "colab": {
          "base_uri": "https://localhost:8080/",
          "height": 410
        },
        "id": "pAQ5eoavZJmD",
        "outputId": "28dda1f6-7468-43de-9376-9093227309d4"
      },
      "outputs": [
        {
          "output_type": "display_data",
          "data": {
            "text/plain": [
              "<Figure size 576x288 with 1 Axes>"
            ],
            "image/png": "[encoded data removed]"
          },
          "metadata": {}
        }
      ],
      "source": [
        "(pd.crosstab(data['Relevant_experience'],data['Target'],normalize='index')*100).plot(kind='bar',figsize=(8,4),stacked=True)\n",
        "plt.ylabel('Percentage Attrition %')\n",
        "plt.show()"
      ]
    },
    {
      "cell_type": "markdown",
      "id": "dH6gaUTa36fU",
      "metadata": {
        "id": "dH6gaUTa36fU"
      },
      "source": [
        "**Observations:**\n",
        "\n",
        "* From the above plot, we see that employees with Non-relevant experience are more likely to be switching their job."
      ]
    },
    {
      "cell_type": "markdown",
      "id": "e7edbd07",
      "metadata": {
        "id": "e7edbd07"
      },
      "source": [
        "### **Target vs Enrolled_university**"
      ]
    },
    {
      "cell_type": "code",
      "execution_count": null,
      "id": "hVHQbvjSZJkA",
      "metadata": {
        "colab": {
          "base_uri": "https://localhost:8080/",
          "height": 366
        },
        "id": "hVHQbvjSZJkA",
        "outputId": "13ff7eff-886d-49db-95f8-44c3561567c4"
      },
      "outputs": [
        {
          "output_type": "display_data",
          "data": {
            "text/plain": [
              "<Figure size 576x288 with 1 Axes>"
            ],
            "image/png": "[encoded data removed]"
          },
          "metadata": {}
        }
      ],
      "source": [
        "(pd.crosstab(data['Enrolled_university'],data['Target'],normalize='index')*100).plot(kind='bar',figsize=(8,4),stacked=True)\n",
        "plt.ylabel('Percentage Attrition %')\n",
        "plt.show()"
      ]
    },
    {
      "cell_type": "markdown",
      "id": "Dk2QzFmC4am6",
      "metadata": {
        "id": "Dk2QzFmC4am6"
      },
      "source": [
        "**Observations:**\n",
        "\n",
        "* Employees who have taken full-time courses in universities are the ones who are more likely to be trying to switch jobs."
      ]
    },
    {
      "cell_type": "markdown",
      "id": "213320b7",
      "metadata": {
        "id": "213320b7"
      },
      "source": [
        "### **Target vs Education_level**"
      ]
    },
    {
      "cell_type": "code",
      "execution_count": null,
      "id": "WH6UEU2JZJia",
      "metadata": {
        "colab": {
          "base_uri": "https://localhost:8080/",
          "height": 358
        },
        "id": "WH6UEU2JZJia",
        "outputId": "5dff28fc-98b9-4aaf-b884-d63ff35845d8"
      },
      "outputs": [
        {
          "output_type": "display_data",
          "data": {
            "text/plain": [
              "<Figure size 576x288 with 1 Axes>"
            ],
            "image/png": "[encoded data removed]"
          },
          "metadata": {}
        }
      ],
      "source": [
        "(pd.crosstab(data['Education_level'],data['Target'],normalize='index')*100).plot(kind='bar',figsize=(8,4),stacked=True)\n",
        "plt.ylabel('Percentage Attrition %')\n",
        "plt.show()"
      ]
    },
    {
      "cell_type": "markdown",
      "id": "HDN0OsVO5GW7",
      "metadata": {
        "id": "HDN0OsVO5GW7"
      },
      "source": [
        "**Observations:**\n",
        "\n",
        "* Employees who completed Graduation and Master's degrees are more likely to be trying to switch jobs. "
      ]
    },
    {
      "cell_type": "markdown",
      "id": "2aa037a0",
      "metadata": {
        "id": "2aa037a0"
      },
      "source": [
        "### **Target vs Major_discipline**"
      ]
    },
    {
      "cell_type": "code",
      "execution_count": null,
      "id": "C0arOEsaZJg_",
      "metadata": {
        "colab": {
          "base_uri": "https://localhost:8080/",
          "height": 367
        },
        "id": "C0arOEsaZJg_",
        "outputId": "d216037f-bf3f-46cb-c3ec-f822ae0ebcd3"
      },
      "outputs": [
        {
          "output_type": "display_data",
          "data": {
            "text/plain": [
              "<Figure size 576x288 with 1 Axes>"
            ],
            "image/png": "[encoded data removed]"
          },
          "metadata": {}
        }
      ],
      "source": [
        "(pd.crosstab(data['Major_discipline'],data['Target'],normalize='index')*100).plot(kind='bar',figsize=(8,4),stacked=True)\n",
        "plt.ylabel('Percentage Attrition %')\n",
        "plt.show()"
      ]
    },
    {
      "cell_type": "markdown",
      "id": "s1HzEI19R9jC",
      "metadata": {
        "id": "s1HzEI19R9jC"
      },
      "source": [
        "**Observations:**\n",
        "\n",
        "* Employees who took STEM or Business Degrees as their major discipline are slightly more likely to change their job."
      ]
    },
    {
      "cell_type": "markdown",
      "id": "0dcab433",
      "metadata": {
        "id": "0dcab433"
      },
      "source": [
        "### **Target vs Experience**"
      ]
    },
    {
      "cell_type": "code",
      "execution_count": null,
      "id": "Nvlw9xplZJeZ",
      "metadata": {
        "colab": {
          "base_uri": "https://localhost:8080/",
          "height": 298
        },
        "id": "Nvlw9xplZJeZ",
        "outputId": "96246480-16eb-4ab6-f711-7109f27792e2"
      },
      "outputs": [
        {
          "output_type": "display_data",
          "data": {
            "text/plain": [
              "<Figure size 576x288 with 1 Axes>"
            ],
            "image/png": "[encoded data removed]"
          },
          "metadata": {}
        }
      ],
      "source": [
        "(pd.crosstab(data['Experience'],data['Target'],normalize='index')*100).plot(kind='bar',figsize=(8,4),stacked=True)\n",
        "plt.ylabel('Percentage Attrition %')\n",
        "plt.show()"
      ]
    },
    {
      "cell_type": "markdown",
      "id": "0onsfr5i5o4v",
      "metadata": {
        "id": "0onsfr5i5o4v"
      },
      "source": [
        "**Observations:**\n",
        "\n",
        "* From the above plot, it's clear that employees having a work experience of less than 3 years are trying to switch their jobs."
      ]
    },
    {
      "cell_type": "markdown",
      "id": "1c516e93",
      "metadata": {
        "id": "1c516e93"
      },
      "source": [
        "### **Target vs Last_new_job**"
      ]
    },
    {
      "cell_type": "code",
      "execution_count": null,
      "id": "5NRAezxuZJZF",
      "metadata": {
        "colab": {
          "base_uri": "https://localhost:8080/",
          "height": 307
        },
        "id": "5NRAezxuZJZF",
        "outputId": "52dae863-0dfb-4428-c07a-ddb78254291f"
      },
      "outputs": [
        {
          "output_type": "display_data",
          "data": {
            "text/plain": [
              "<Figure size 576x288 with 1 Axes>"
            ],
            "image/png": "[encoded data removed]"
          },
          "metadata": {}
        }
      ],
      "source": [
        "(pd.crosstab(data['Last_new_job'],data['Target'],normalize='index')*100).plot(kind='bar',figsize=(8,4),stacked=True)\n",
        "plt.ylabel('Percentage Attrition %')\n",
        "plt.show()"
      ]
    },
    {
      "cell_type": "markdown",
      "id": "ynkyi04c2x0Y",
      "metadata": {
        "id": "ynkyi04c2x0Y"
      },
      "source": [
        "**Observations:**\n",
        "\n",
        "* Employees who have never switched jobs before are the most likely to be looking for a job change."
      ]
    },
    {
      "cell_type": "markdown",
      "id": "72ZJ-3-yPgA9",
      "metadata": {
        "id": "72ZJ-3-yPgA9"
      },
      "source": [
        "## **Data Pre-processing**"
      ]
    },
    {
      "cell_type": "code",
      "execution_count": null,
      "id": "0e681ce7",
      "metadata": {
        "id": "0e681ce7"
      },
      "outputs": [],
      "source": [
        "# Dropping these columns as they will not add value to the modeling\n",
        "data.drop(['Company_size','Gender','City','Enrollee_id'], axis=1, inplace=True)"
      ]
    },
    {
      "cell_type": "code",
      "execution_count": null,
      "id": "537135fa",
      "metadata": {
        "id": "537135fa"
      },
      "outputs": [],
      "source": [
        "# Separating all the categorical columns for imputation\n",
        "cat_col_df = data.drop(['City_development_index','Training_hours','Target'], axis=1)"
      ]
    },
    {
      "cell_type": "code",
      "execution_count": null,
      "id": "79086265",
      "metadata": {
        "id": "79086265"
      },
      "outputs": [],
      "source": [
        "# Separating Independent and Dependent Columns\n",
        "X = data.drop(['Target'],axis=1)\n",
        "Y = data[['Target']]"
      ]
    },
    {
      "cell_type": "code",
      "execution_count": null,
      "id": "9f929b75",
      "metadata": {
        "id": "9f929b75"
      },
      "outputs": [],
      "source": [
        "# Splitting the dataset into the Training and Testing set.\n",
        "X_train, X_test, y_train, y_test = train_test_split(X, Y, test_size = 0.2, random_state = 42,stratify = Y)"
      ]
    },
    {
      "cell_type": "markdown",
      "id": "tGILNwUMK3-7",
      "metadata": {
        "id": "tGILNwUMK3-7"
      },
      "source": [
        "### **Missing Value Imputation**\n",
        "* We will impute the missing values in columns using their mode."
      ]
    },
    {
      "cell_type": "code",
      "execution_count": null,
      "id": "YSK3ENI-OlJy",
      "metadata": {
        "colab": {
          "base_uri": "https://localhost:8080/"
        },
        "id": "YSK3ENI-OlJy",
        "outputId": "3c2f1e56-3961-4362-9e82-b6844edbf223"
      },
      "outputs": [
        {
          "output_type": "execute_result",
          "data": {
            "text/plain": [
              "City_development_index       0\n",
              "Relevant_experience          0\n",
              "Enrolled_university        317\n",
              "Education_level            362\n",
              "Major_discipline          2258\n",
              "Experience                  50\n",
              "Company_type              4881\n",
              "Last_new_job               343\n",
              "Training_hours               0\n",
              "dtype: int64"
            ]
          },
          "metadata": {},
          "execution_count": 31
        }
      ],
      "source": [
        "X_train.isnull().sum()"
      ]
    },
    {
      "cell_type": "code",
      "execution_count": null,
      "id": "wWwWZwvRx-Vy",
      "metadata": {
        "id": "wWwWZwvRx-Vy"
      },
      "outputs": [],
      "source": [
        "imputer_mode = SimpleImputer(strategy=\"most_frequent\")\n",
        "X_train[[\"Enrolled_university\",\"Education_level\",\"Major_discipline\",\"Experience\",\"Company_type\",\"Last_new_job\"]] = imputer_mode.fit_transform(\n",
        "    X_train[[\"Enrolled_university\",\"Education_level\",\"Major_discipline\",\"Experience\",\"Company_type\",\"Last_new_job\"]])\n",
        "\n",
        "X_test[[\"Enrolled_university\",\"Education_level\",\"Major_discipline\",\"Experience\",\"Company_type\",\"Last_new_job\"]] = imputer_mode.transform(\n",
        "    X_test[[\"Enrolled_university\",\"Education_level\",\"Major_discipline\",\"Experience\",\"Company_type\",\"Last_new_job\"]])"
      ]
    },
    {
      "cell_type": "code",
      "execution_count": null,
      "id": "9xjGUcAZRDkB",
      "metadata": {
        "colab": {
          "base_uri": "https://localhost:8080/"
        },
        "id": "9xjGUcAZRDkB",
        "outputId": "830eb1b8-dc78-4832-f71c-43c46eb45aea"
      },
      "outputs": [
        {
          "output_type": "stream",
          "name": "stdout",
          "text": [
            "City_development_index    0\n",
            "Relevant_experience       0\n",
            "Enrolled_university       0\n",
            "Education_level           0\n",
            "Major_discipline          0\n",
            "Experience                0\n",
            "Company_type              0\n",
            "Last_new_job              0\n",
            "Training_hours            0\n",
            "dtype: int64\n",
            "------------------------------\n",
            "City_development_index    0\n",
            "Relevant_experience       0\n",
            "Enrolled_university       0\n",
            "Education_level           0\n",
            "Major_discipline          0\n",
            "Experience                0\n",
            "Company_type              0\n",
            "Last_new_job              0\n",
            "Training_hours            0\n",
            "dtype: int64\n"
          ]
        }
      ],
      "source": [
        "# Checking that no column has missing values in train and test sets\n",
        "print(X_train.isna().sum())\n",
        "print(\"-\" * 30)\n",
        "print(X_test.isna().sum())"
      ]
    },
    {
      "cell_type": "markdown",
      "id": "HCRTeLsjLJ52",
      "metadata": {
        "id": "HCRTeLsjLJ52"
      },
      "source": [
        "### **Encoding Categorical Columns**\n",
        "\n",
        "* We will be using the Label Encoding technique to encode the values of the categorical columns in this dataset.\n",
        "\n"
      ]
    },
    {
      "cell_type": "code",
      "execution_count": null,
      "id": "2c7447f4",
      "metadata": {
        "id": "2c7447f4"
      },
      "outputs": [],
      "source": [
        "# Create the function to fit and transform the label encoder\n",
        "def label_encode_columns(df, columns):\n",
        "    encoders = {}\n",
        "    for col in columns:\n",
        "        le = LabelEncoder().fit(df[col])\n",
        "        df[col] = le.transform(df[col])\n",
        "        encoders[col] = le\n",
        "    return df, encoders\n",
        "\n",
        "# Create the function to take in the fitted encoders and transform the scoring dataset\n",
        "def label_encode_columns_w_fit_encoders(df, columns, encoders):\n",
        "    for col in columns:\n",
        "        le = encoders.get(col)\n",
        "        df[col] = le.transform(df[col])\n",
        "    return df\n",
        " \n",
        "# Define the columns we want to encode\n",
        "encode_columns = ['Relevant_experience','Enrolled_university','Education_level','Major_discipline','Experience','Company_type','Last_new_job']\n",
        " \n",
        "# Fit and transform the training dataset, returing both the new training dataset and the fitted encoders to use on the scoring dataset\n",
        "X_train, encoders = label_encode_columns(df=X_train, columns=encode_columns)\n",
        " \n",
        "# Transform the scoring dataset using the encoders we fit previously\n",
        "X_test = label_encode_columns_w_fit_encoders(df=X_test, columns=encode_columns, encoders=encoders)"
      ]
    },
    {
      "cell_type": "code",
      "execution_count": null,
      "id": "aa8f46f5",
      "metadata": {
        "id": "aa8f46f5",
        "outputId": "45387693-44ba-4da8-f8ff-f0da7f888fb0",
        "colab": {
          "base_uri": "https://localhost:8080/",
          "height": 270
        }
      },
      "outputs": [
        {
          "output_type": "execute_result",
          "data": {
            "text/plain": [
              "       City_development_index  Relevant_experience  Enrolled_university  \\\n",
              "17855                   0.624                    0                    2   \n",
              "17664                   0.920                    1                    2   \n",
              "13404                   0.896                    0                    2   \n",
              "13366                   0.920                    0                    2   \n",
              "15670                   0.855                    0                    0   \n",
              "\n",
              "       Education_level  Major_discipline  Experience  Company_type  \\\n",
              "17855                0                 5           1             5   \n",
              "17664                4                 5          15             5   \n",
              "13404                0                 5           3             2   \n",
              "13366                0                 5          15             1   \n",
              "15670                0                 5          15             5   \n",
              "\n",
              "       Last_new_job  Training_hours  \n",
              "17855             0              90  \n",
              "17664             5              15  \n",
              "13404             4              36  \n",
              "13366             0              53  \n",
              "15670             0             158  "
            ],
            "text/html": [
              "\n",
              "  <div id=\"df-f8f79870-b7f1-43a8-a1cf-5b5dc6a12940\">\n",
              "    <div class=\"colab-df-container\">\n",
              "      <div>\n",
              "<style scoped>\n",
              "    .dataframe tbody tr th:only-of-type {\n",
              "        vertical-align: middle;\n",
              "    }\n",
              "\n",
              "    .dataframe tbody tr th {\n",
              "        vertical-align: top;\n",
              "    }\n",
              "\n",
              "    .dataframe thead th {\n",
              "        text-align: right;\n",
              "    }\n",
              "</style>\n",
              "<table border=\"1\" class=\"dataframe\">\n",
              "  <thead>\n",
              "    <tr style=\"text-align: right;\">\n",
              "      <th></th>\n",
              "      <th>City_development_index</th>\n",
              "      <th>Relevant_experience</th>\n",
              "      <th>Enrolled_university</th>\n",
              "      <th>Education_level</th>\n",
              "      <th>Major_discipline</th>\n",
              "      <th>Experience</th>\n",
              "      <th>Company_type</th>\n",
              "      <th>Last_new_job</th>\n",
              "      <th>Training_hours</th>\n",
              "    </tr>\n",
              "  </thead>\n",
              "  <tbody>\n",
              "    <tr>\n",
              "      <th>17855</th>\n",
              "      <td>0.624</td>\n",
              "      <td>0</td>\n",
              "      <td>2</td>\n",
              "      <td>0</td>\n",
              "      <td>5</td>\n",
              "      <td>1</td>\n",
              "      <td>5</td>\n",
              "      <td>0</td>\n",
              "      <td>90</td>\n",
              "    </tr>\n",
              "    <tr>\n",
              "      <th>17664</th>\n",
              "      <td>0.920</td>\n",
              "      <td>1</td>\n",
              "      <td>2</td>\n",
              "      <td>4</td>\n",
              "      <td>5</td>\n",
              "      <td>15</td>\n",
              "      <td>5</td>\n",
              "      <td>5</td>\n",
              "      <td>15</td>\n",
              "    </tr>\n",
              "    <tr>\n",
              "      <th>13404</th>\n",
              "      <td>0.896</td>\n",
              "      <td>0</td>\n",
              "      <td>2</td>\n",
              "      <td>0</td>\n",
              "      <td>5</td>\n",
              "      <td>3</td>\n",
              "      <td>2</td>\n",
              "      <td>4</td>\n",
              "      <td>36</td>\n",
              "    </tr>\n",
              "    <tr>\n",
              "      <th>13366</th>\n",
              "      <td>0.920</td>\n",
              "      <td>0</td>\n",
              "      <td>2</td>\n",
              "      <td>0</td>\n",
              "      <td>5</td>\n",
              "      <td>15</td>\n",
              "      <td>1</td>\n",
              "      <td>0</td>\n",
              "      <td>53</td>\n",
              "    </tr>\n",
              "    <tr>\n",
              "      <th>15670</th>\n",
              "      <td>0.855</td>\n",
              "      <td>0</td>\n",
              "      <td>0</td>\n",
              "      <td>0</td>\n",
              "      <td>5</td>\n",
              "      <td>15</td>\n",
              "      <td>5</td>\n",
              "      <td>0</td>\n",
              "      <td>158</td>\n",
              "    </tr>\n",
              "  </tbody>\n",
              "</table>\n",
              "</div>\n",
              "      <button class=\"colab-df-convert\" onclick=\"convertToInteractive('df-f8f79870-b7f1-43a8-a1cf-5b5dc6a12940')\"\n",
              "              title=\"Convert this dataframe to an interactive table.\"\n",
              "              style=\"display:none;\">\n",
              "        \n",
              "  <svg xmlns=\"http://www.w3.org/2000/svg\" height=\"24px\"viewBox=\"0 0 24 24\"\n",
              "       width=\"24px\">\n",
              "    <path d=\"M0 0h24v24H0V0z\" fill=\"none\"/>\n",
              "    <path d=\"M18.56 5.44l.94 2.06.94-2.06 2.06-.94-2.06-.94-.94-2.06-.94 2.06-2.06.94zm-11 1L8.5 8.5l.94-2.06 2.06-.94-2.06-.94L8.5 2.5l-.94 2.06-2.06.94zm10 10l.94 2.06.94-2.06 2.06-.94-2.06-.94-.94-2.06-.94 2.06-2.06.94z\"/><path d=\"M17.41 7.96l-1.37-1.37c-.4-.4-.92-.59-1.43-.59-.52 0-1.04.2-1.43.59L10.3 9.45l-7.72 7.72c-.78.78-.78 2.05 0 2.83L4 21.41c.39.39.9.59 1.41.59.51 0 1.02-.2 1.41-.59l7.78-7.78 2.81-2.81c.8-.78.8-2.07 0-2.86zM5.41 20L4 18.59l7.72-7.72 1.47 1.35L5.41 20z\"/>\n",
              "  </svg>\n",
              "      </button>\n",
              "      \n",
              "  <style>\n",
              "    .colab-df-container {\n",
              "      display:flex;\n",
              "      flex-wrap:wrap;\n",
              "      gap: 12px;\n",
              "    }\n",
              "\n",
              "    .colab-df-convert {\n",
              "      background-color: #E8F0FE;\n",
              "      border: none;\n",
              "      border-radius: 50%;\n",
              "      cursor: pointer;\n",
              "      display: none;\n",
              "      fill: #1967D2;\n",
              "      height: 32px;\n",
              "      padding: 0 0 0 0;\n",
              "      width: 32px;\n",
              "    }\n",
              "\n",
              "    .colab-df-convert:hover {\n",
              "      background-color: #E2EBFA;\n",
              "      box-shadow: 0px 1px 2px rgba(60, 64, 67, 0.3), 0px 1px 3px 1px rgba(60, 64, 67, 0.15);\n",
              "      fill: #174EA6;\n",
              "    }\n",
              "\n",
              "    [theme=dark] .colab-df-convert {\n",
              "      background-color: #3B4455;\n",
              "      fill: #D2E3FC;\n",
              "    }\n",
              "\n",
              "    [theme=dark] .colab-df-convert:hover {\n",
              "      background-color: #434B5C;\n",
              "      box-shadow: 0px 1px 3px 1px rgba(0, 0, 0, 0.15);\n",
              "      filter: drop-shadow(0px 1px 2px rgba(0, 0, 0, 0.3));\n",
              "      fill: #FFFFFF;\n",
              "    }\n",
              "  </style>\n",
              "\n",
              "      <script>\n",
              "        const buttonEl =\n",
              "          document.querySelector('#df-f8f79870-b7f1-43a8-a1cf-5b5dc6a12940 button.colab-df-convert');\n",
              "        buttonEl.style.display =\n",
              "          google.colab.kernel.accessAllowed ? 'block' : 'none';\n",
              "\n",
              "        async function convertToInteractive(key) {\n",
              "          const element = document.querySelector('#df-f8f79870-b7f1-43a8-a1cf-5b5dc6a12940');\n",
              "          const dataTable =\n",
              "            await google.colab.kernel.invokeFunction('convertToInteractive',\n",
              "                                                     [key], {});\n",
              "          if (!dataTable) return;\n",
              "\n",
              "          const docLinkHtml = 'Like what you see? Visit the ' +\n",
              "            '<a target=\"_blank\" href=https://colab.research.google.com/notebooks/data_table.ipynb>data table notebook</a>'\n",
              "            + ' to learn more about interactive tables.';\n",
              "          element.innerHTML = '';\n",
              "          dataTable['output_type'] = 'display_data';\n",
              "          await google.colab.output.renderOutput(dataTable, element);\n",
              "          const docLink = document.createElement('div');\n",
              "          docLink.innerHTML = docLinkHtml;\n",
              "          element.appendChild(docLink);\n",
              "        }\n",
              "      </script>\n",
              "    </div>\n",
              "  </div>\n",
              "  "
            ]
          },
          "metadata": {},
          "execution_count": 35
        }
      ],
      "source": [
        "X_train.head()"
      ]
    },
    {
      "cell_type": "code",
      "execution_count": null,
      "id": "DxSiFhk9RTpL",
      "metadata": {
        "colab": {
          "base_uri": "https://localhost:8080/"
        },
        "id": "DxSiFhk9RTpL",
        "outputId": "8a4e2f65-9ef7-4f09-834e-c9f782628305"
      },
      "outputs": [
        {
          "output_type": "stream",
          "name": "stdout",
          "text": [
            "(15326, 9)\n",
            "(3832, 9)\n",
            "(15326, 1)\n",
            "(3832, 1)\n"
          ]
        }
      ],
      "source": [
        "# Checking the shape of train and test sets\n",
        "print(X_train.shape)\n",
        "print(X_test.shape)\n",
        "print(y_train.shape)\n",
        "print(y_test.shape)"
      ]
    },
    {
      "cell_type": "markdown",
      "id": "tWDuX-VjRoos",
      "metadata": {
        "id": "tWDuX-VjRoos"
      },
      "source": [
        "## **Model Building**"
      ]
    },
    {
      "cell_type": "markdown",
      "id": "LwW-lVlORwKn",
      "metadata": {
        "id": "LwW-lVlORwKn"
      },
      "source": [
        "#### **A model can make wrong predictions in the following ways:**\n",
        "* Predicting an employee is looking for a job when he/she is not looking for it. \n",
        "* Predicting an employee is not looking for a job when he/she is in fact looking for one.\n",
        "\n",
        "#### **Which case is more important?**\n",
        "\n",
        "Both cases are actually important for the purposes of this case study. Not giving a chance to a deserving employee (by wrongly classifying them as likely to attrite) might lead to decreased productivity, and the company might lose a good employee affecting the organization's growth. However, giving chances to a non-deserving employees (as they are likely to attrite) would lead to a financial loss for the company, and giving such employees an increased amount of responsibility might again affect the company's growth.\n",
        "\n",
        "#### **How to reduce this loss i.e need to reduce False Negatives as well as False Positives?**\n",
        "\n",
        "Since both errors are important for us to minimize, the company would want the F1 Score evaluation metric to be maximized. Hence, the focus should be on increasing the F1 score rather than focusing on just one metric i.e. Recall or Precision.\n"
      ]
    },
    {
      "cell_type": "markdown",
      "id": "6b515c2c",
      "metadata": {
        "id": "6b515c2c"
      },
      "source": [
        "**Also, let's create a function to calculate and visualize the confusion matrix so that we don't have to rewrite the same code repeatedly for each model.**"
      ]
    },
    {
      "cell_type": "code",
      "execution_count": null,
      "id": "dc5b879c",
      "metadata": {
        "id": "dc5b879c"
      },
      "outputs": [],
      "source": [
        "def make_confusion_matrix(cf,\n",
        "                          group_names=None,\n",
        "                          categories='auto',\n",
        "                          count=True,\n",
        "                          percent=True,\n",
        "                          cbar=True,\n",
        "                          xyticks=True,\n",
        "                          xyplotlabels=True,\n",
        "                          sum_stats=True,\n",
        "                          figsize=None,\n",
        "                          cmap='Blues',\n",
        "                          title=None):\n",
        "    '''\n",
        "    This function will make a pretty plot of an sklearn Confusion Matrix cm using a Seaborn heatmap visualization.\n",
        "    Arguments\n",
        "    '''\n",
        "\n",
        "\n",
        "    # CODE TO GENERATE TEXT INSIDE EACH SQUARE\n",
        "    blanks = ['' for i in range(cf.size)]\n",
        "\n",
        "    if group_names and len(group_names)==cf.size:\n",
        "        group_labels = [\"{}\\n\".format(value) for value in group_names]\n",
        "    else:\n",
        "        group_labels = blanks\n",
        "\n",
        "    if count:\n",
        "        group_counts = [\"{0:0.0f}\\n\".format(value) for value in cf.flatten()]\n",
        "    else:\n",
        "        group_counts = blanks\n",
        "\n",
        "    if percent:\n",
        "        group_percentages = [\"{0:.2%}\".format(value) for value in cf.flatten()/np.sum(cf)]\n",
        "    else:\n",
        "        group_percentages = blanks\n",
        "\n",
        "    box_labels = [f\"{v1}{v2}{v3}\".strip() for v1, v2, v3 in zip(group_labels,group_counts,group_percentages)]\n",
        "    box_labels = np.asarray(box_labels).reshape(cf.shape[0],cf.shape[1])\n",
        "\n",
        "\n",
        "    # CODE TO GENERATE SUMMARY STATISTICS & TEXT FOR SUMMARY STATS\n",
        "    if sum_stats:\n",
        "        # Accuracy is sum of diagonal divided by total observations\n",
        "        accuracy  = np.trace(cf) / float(np.sum(cf))\n",
        "\n",
        "    # SET FIGURE PARAMETERS ACCORDING TO OTHER ARGUMENTS\n",
        "    if figsize==None:\n",
        "        # Get default figure size if not set\n",
        "        figsize = plt.rcParams.get('figure.figsize')\n",
        "\n",
        "    if xyticks==False:\n",
        "        # Do not show categories if xyticks is False\n",
        "        categories=False\n",
        "\n",
        "\n",
        "    # MAKE THE HEATMAP VISUALIZATION\n",
        "    plt.figure(figsize=figsize)\n",
        "    sns.heatmap(cf,annot=box_labels,fmt=\"\",cmap=cmap,cbar=cbar,xticklabels=categories,yticklabels=categories)\n",
        "\n",
        "    \n",
        "    if title:\n",
        "        plt.title(title)"
      ]
    },
    {
      "cell_type": "markdown",
      "id": "16NOrzwgsLTF",
      "metadata": {
        "id": "16NOrzwgsLTF"
      },
      "source": [
        "### **Building Neural Network**\n",
        "\n",
        "### **Model 1**"
      ]
    },
    {
      "cell_type": "code",
      "execution_count": null,
      "id": "7d438930",
      "metadata": {
        "id": "7d438930"
      },
      "outputs": [],
      "source": [
        "backend.clear_session()\n",
        "\n",
        "# Fixing the seed for random number generators so that we can ensure we receive the same output everytime\n",
        "np.random.seed(42)\n",
        "import random\n",
        "random.seed(42)\n",
        "tf.random.set_seed(42)"
      ]
    },
    {
      "cell_type": "code",
      "execution_count": null,
      "id": "3add77c1",
      "metadata": {
        "id": "3add77c1"
      },
      "outputs": [],
      "source": [
        "# Initializing the ANN\n",
        "model = Sequential()\n",
        "\n",
        "# The amount of nodes (dimensions) in hidden layer should be the average of input and output layers, in this case 64.\n",
        "# This adds the input layer (by specifying input dimension) AND the first hidden layer (units)\n",
        "model.add(Dense(activation = 'relu', input_dim = 9, units=64))\n",
        "\n",
        "# Adding hidden layer\n",
        "model.add(Dense(32, activation='relu'))\n",
        "\n",
        "# Adding the output layer\n",
        "# Notice that we do not need to specify input dim. \n",
        "# We have an output of 1 node, which is the the desired dimensions of our output (stay with the bank or not)\n",
        "# We use the sigmoid because we want probability outcomes\n",
        "model.add(Dense(1, activation = 'sigmoid')) "
      ]
    },
    {
      "cell_type": "code",
      "execution_count": null,
      "id": "1c6c97c9",
      "metadata": {
        "id": "1c6c97c9"
      },
      "outputs": [],
      "source": [
        "# Create optimizer with default learning rate\n",
        "# Compile the model\n",
        "model.compile(optimizer='SGD', loss='binary_crossentropy', metrics=['accuracy'])"
      ]
    },
    {
      "cell_type": "code",
      "execution_count": null,
      "id": "e9b5b7b8",
      "metadata": {
        "colab": {
          "base_uri": "https://localhost:8080/"
        },
        "id": "e9b5b7b8",
        "outputId": "c0fd507d-79cc-436d-c796-3f8c0b234868"
      },
      "outputs": [
        {
          "output_type": "stream",
          "name": "stdout",
          "text": [
            "Model: \"sequential\"\n",
            "_________________________________________________________________\n",
            " Layer (type)                Output Shape              Param #   \n",
            "=================================================================\n",
            " dense (Dense)               (None, 64)                640       \n",
            "                                                                 \n",
            " dense_1 (Dense)             (None, 32)                2080      \n",
            "                                                                 \n",
            " dense_2 (Dense)             (None, 1)                 33        \n",
            "                                                                 \n",
            "=================================================================\n",
            "Total params: 2,753\n",
            "Trainable params: 2,753\n",
            "Non-trainable params: 0\n",
            "_________________________________________________________________\n"
          ]
        }
      ],
      "source": [
        "model.summary()"
      ]
    },
    {
      "cell_type": "code",
      "execution_count": null,
      "id": "e4edcceb",
      "metadata": {
        "colab": {
          "base_uri": "https://localhost:8080/"
        },
        "id": "e4edcceb",
        "outputId": "6ed2f4df-0298-443c-b5e2-90b72b2a3583",
        "scrolled": true
      },
      "outputs": [
        {
          "output_type": "stream",
          "name": "stdout",
          "text": [
            "Epoch 1/50\n",
            "384/384 [==============================] - 1s 3ms/step - loss: 0.5441 - accuracy: 0.7505 - val_loss: 0.5792 - val_accuracy: 0.7518\n",
            "Epoch 2/50\n",
            "384/384 [==============================] - 1s 3ms/step - loss: 0.5437 - accuracy: 0.7508 - val_loss: 0.5408 - val_accuracy: 0.7521\n",
            "Epoch 3/50\n",
            "384/384 [==============================] - 1s 3ms/step - loss: 0.5424 - accuracy: 0.7511 - val_loss: 0.5440 - val_accuracy: 0.7531\n",
            "Epoch 4/50\n",
            "384/384 [==============================] - 1s 3ms/step - loss: 0.5438 - accuracy: 0.7515 - val_loss: 0.5401 - val_accuracy: 0.7524\n",
            "Epoch 5/50\n",
            "384/384 [==============================] - 1s 3ms/step - loss: 0.5439 - accuracy: 0.7513 - val_loss: 0.5799 - val_accuracy: 0.7521\n",
            "Epoch 6/50\n",
            "384/384 [==============================] - 1s 3ms/step - loss: 0.5430 - accuracy: 0.7517 - val_loss: 0.5585 - val_accuracy: 0.7518\n",
            "Epoch 7/50\n",
            "384/384 [==============================] - 1s 3ms/step - loss: 0.5428 - accuracy: 0.7511 - val_loss: 0.5695 - val_accuracy: 0.7495\n",
            "Epoch 8/50\n",
            "384/384 [==============================] - 1s 3ms/step - loss: 0.5426 - accuracy: 0.7507 - val_loss: 0.5373 - val_accuracy: 0.7528\n",
            "Epoch 9/50\n",
            "384/384 [==============================] - 1s 3ms/step - loss: 0.5428 - accuracy: 0.7512 - val_loss: 0.5385 - val_accuracy: 0.7541\n",
            "Epoch 10/50\n",
            "384/384 [==============================] - 1s 4ms/step - loss: 0.5433 - accuracy: 0.7511 - val_loss: 0.5395 - val_accuracy: 0.7541\n",
            "Epoch 11/50\n",
            "384/384 [==============================] - 1s 3ms/step - loss: 0.5433 - accuracy: 0.7514 - val_loss: 0.5523 - val_accuracy: 0.7551\n",
            "Epoch 12/50\n",
            "384/384 [==============================] - 1s 3ms/step - loss: 0.5423 - accuracy: 0.7510 - val_loss: 0.5776 - val_accuracy: 0.7518\n",
            "Epoch 13/50\n",
            "384/384 [==============================] - 1s 3ms/step - loss: 0.5423 - accuracy: 0.7513 - val_loss: 0.7902 - val_accuracy: 0.4367\n",
            "Epoch 14/50\n",
            "384/384 [==============================] - 1s 3ms/step - loss: 0.5437 - accuracy: 0.7508 - val_loss: 0.5396 - val_accuracy: 0.7518\n",
            "Epoch 15/50\n",
            "384/384 [==============================] - 1s 3ms/step - loss: 0.5420 - accuracy: 0.7518 - val_loss: 0.5483 - val_accuracy: 0.7518\n",
            "Epoch 16/50\n",
            "384/384 [==============================] - 1s 3ms/step - loss: 0.5421 - accuracy: 0.7512 - val_loss: 0.5567 - val_accuracy: 0.7577\n",
            "Epoch 17/50\n",
            "384/384 [==============================] - 1s 3ms/step - loss: 0.5423 - accuracy: 0.7515 - val_loss: 0.5500 - val_accuracy: 0.7521\n",
            "Epoch 18/50\n",
            "384/384 [==============================] - 1s 3ms/step - loss: 0.5412 - accuracy: 0.7503 - val_loss: 0.5379 - val_accuracy: 0.7534\n",
            "Epoch 19/50\n",
            "384/384 [==============================] - 1s 3ms/step - loss: 0.5418 - accuracy: 0.7518 - val_loss: 0.5399 - val_accuracy: 0.7531\n",
            "Epoch 20/50\n",
            "384/384 [==============================] - 1s 3ms/step - loss: 0.5418 - accuracy: 0.7522 - val_loss: 0.5358 - val_accuracy: 0.7524\n",
            "Epoch 21/50\n",
            "384/384 [==============================] - 1s 3ms/step - loss: 0.5416 - accuracy: 0.7515 - val_loss: 0.5423 - val_accuracy: 0.7531\n",
            "Epoch 22/50\n",
            "384/384 [==============================] - 1s 3ms/step - loss: 0.5416 - accuracy: 0.7512 - val_loss: 0.5376 - val_accuracy: 0.7541\n",
            "Epoch 23/50\n",
            "384/384 [==============================] - 1s 3ms/step - loss: 0.5413 - accuracy: 0.7518 - val_loss: 0.6159 - val_accuracy: 0.6628\n",
            "Epoch 24/50\n",
            "384/384 [==============================] - 1s 3ms/step - loss: 0.5412 - accuracy: 0.7505 - val_loss: 0.5416 - val_accuracy: 0.7524\n",
            "Epoch 25/50\n",
            "384/384 [==============================] - 1s 3ms/step - loss: 0.5430 - accuracy: 0.7509 - val_loss: 0.5369 - val_accuracy: 0.7544\n",
            "Epoch 26/50\n",
            "384/384 [==============================] - 1s 3ms/step - loss: 0.5417 - accuracy: 0.7503 - val_loss: 0.5660 - val_accuracy: 0.7518\n",
            "Epoch 27/50\n",
            "384/384 [==============================] - 1s 3ms/step - loss: 0.5410 - accuracy: 0.7508 - val_loss: 0.5369 - val_accuracy: 0.7554\n",
            "Epoch 28/50\n",
            "384/384 [==============================] - 1s 3ms/step - loss: 0.5406 - accuracy: 0.7515 - val_loss: 0.5384 - val_accuracy: 0.7518\n",
            "Epoch 29/50\n",
            "384/384 [==============================] - 1s 3ms/step - loss: 0.5423 - accuracy: 0.7507 - val_loss: 0.5401 - val_accuracy: 0.7531\n",
            "Epoch 30/50\n",
            "384/384 [==============================] - 1s 3ms/step - loss: 0.5412 - accuracy: 0.7502 - val_loss: 0.5371 - val_accuracy: 0.7528\n",
            "Epoch 31/50\n",
            "384/384 [==============================] - 1s 3ms/step - loss: 0.5409 - accuracy: 0.7515 - val_loss: 0.5359 - val_accuracy: 0.7541\n",
            "Epoch 32/50\n",
            "384/384 [==============================] - 1s 3ms/step - loss: 0.5401 - accuracy: 0.7518 - val_loss: 0.5418 - val_accuracy: 0.7528\n",
            "Epoch 33/50\n",
            "384/384 [==============================] - 1s 3ms/step - loss: 0.5402 - accuracy: 0.7513 - val_loss: 0.5959 - val_accuracy: 0.7309\n",
            "Epoch 34/50\n",
            "384/384 [==============================] - 1s 3ms/step - loss: 0.5416 - accuracy: 0.7511 - val_loss: 0.5575 - val_accuracy: 0.7531\n",
            "Epoch 35/50\n",
            "384/384 [==============================] - 1s 3ms/step - loss: 0.5394 - accuracy: 0.7515 - val_loss: 0.5517 - val_accuracy: 0.7521\n",
            "Epoch 36/50\n",
            "384/384 [==============================] - 1s 3ms/step - loss: 0.5403 - accuracy: 0.7511 - val_loss: 0.5458 - val_accuracy: 0.7518\n",
            "Epoch 37/50\n",
            "384/384 [==============================] - 1s 3ms/step - loss: 0.5395 - accuracy: 0.7515 - val_loss: 0.6230 - val_accuracy: 0.6487\n",
            "Epoch 38/50\n",
            "384/384 [==============================] - 1s 3ms/step - loss: 0.5399 - accuracy: 0.7515 - val_loss: 0.5357 - val_accuracy: 0.7528\n",
            "Epoch 39/50\n",
            "384/384 [==============================] - 1s 3ms/step - loss: 0.5388 - accuracy: 0.7530 - val_loss: 0.5508 - val_accuracy: 0.7521\n",
            "Epoch 40/50\n",
            "384/384 [==============================] - 1s 3ms/step - loss: 0.5399 - accuracy: 0.7526 - val_loss: 0.5354 - val_accuracy: 0.7557\n",
            "Epoch 41/50\n",
            "384/384 [==============================] - 1s 3ms/step - loss: 0.5402 - accuracy: 0.7508 - val_loss: 0.5424 - val_accuracy: 0.7534\n",
            "Epoch 42/50\n",
            "384/384 [==============================] - 1s 3ms/step - loss: 0.5388 - accuracy: 0.7512 - val_loss: 0.5793 - val_accuracy: 0.7521\n",
            "Epoch 43/50\n",
            "384/384 [==============================] - 1s 3ms/step - loss: 0.5398 - accuracy: 0.7515 - val_loss: 0.5665 - val_accuracy: 0.7521\n",
            "Epoch 44/50\n",
            "384/384 [==============================] - 1s 3ms/step - loss: 0.5393 - accuracy: 0.7516 - val_loss: 0.5369 - val_accuracy: 0.7528\n",
            "Epoch 45/50\n",
            "384/384 [==============================] - 1s 3ms/step - loss: 0.5400 - accuracy: 0.7515 - val_loss: 0.5389 - val_accuracy: 0.7524\n",
            "Epoch 46/50\n",
            "384/384 [==============================] - 1s 3ms/step - loss: 0.5398 - accuracy: 0.7519 - val_loss: 0.5362 - val_accuracy: 0.7534\n",
            "Epoch 47/50\n",
            "384/384 [==============================] - 1s 3ms/step - loss: 0.5390 - accuracy: 0.7508 - val_loss: 0.5329 - val_accuracy: 0.7528\n",
            "Epoch 48/50\n",
            "384/384 [==============================] - 1s 3ms/step - loss: 0.5383 - accuracy: 0.7512 - val_loss: 0.5348 - val_accuracy: 0.7538\n",
            "Epoch 49/50\n",
            "384/384 [==============================] - 1s 3ms/step - loss: 0.5389 - accuracy: 0.7515 - val_loss: 0.5343 - val_accuracy: 0.7531\n",
            "Epoch 50/50\n",
            "384/384 [==============================] - 1s 3ms/step - loss: 0.5385 - accuracy: 0.7513 - val_loss: 0.5369 - val_accuracy: 0.7524\n"
          ]
        }
      ],
      "source": [
        "# Fit the model\n",
        "history = model.fit(X_train, y_train,           \n",
        "          validation_split=0.2,\n",
        "          epochs=50,\n",
        "          batch_size=32,verbose=1)"
      ]
    },
    {
      "cell_type": "code",
      "execution_count": null,
      "id": "b5daabaf",
      "metadata": {
        "colab": {
          "base_uri": "https://localhost:8080/",
          "height": 286
        },
        "id": "b5daabaf",
        "outputId": "4678f88b-b053-4991-a7fc-2fef879ae6ae"
      },
      "outputs": [
        {
          "output_type": "stream",
          "name": "stdout",
          "text": [
            "120/120 [==============================] - 0s 2ms/step - loss: 0.5364 - accuracy: 0.7516\n"
          ]
        },
        {
          "output_type": "display_data",
          "data": {
            "text/plain": [
              "<Figure size 432x288 with 1 Axes>"
            ],
            "image/png": "[encoded data removed]"
          },
          "metadata": {}
        }
      ],
      "source": [
        "# Capturing learning history per epoch\n",
        "hist = pd.DataFrame(history.history)\n",
        "hist['epoch'] = history.epoch\n",
        "\n",
        "# Plotting accuracy at different epochs\n",
        "plt.plot(hist['loss'])\n",
        "plt.plot(hist['val_loss'])\n",
        "plt.legend((\"train\" , \"valid\") , loc =0)\n",
        "\n",
        "# Printing results\n",
        "results = model.evaluate(X_test, y_test)"
      ]
    },
    {
      "cell_type": "markdown",
      "id": "mBPv2PDco4mm",
      "metadata": {
        "id": "mBPv2PDco4mm"
      },
      "source": [
        "**Observations:**\n",
        "\n",
        "- There is noise in the loss behavior here. Sometimes, the loss function fluctuates a lot during training, which makes the convergence slow.These fluctuations are due to the nature of Stochastic Gradient Descent that produces noisy updates in the parameters. \n",
        "\n",
        "**Let's check the other metrics.**"
      ]
    },
    {
      "cell_type": "code",
      "execution_count": null,
      "id": "736eaa29",
      "metadata": {
        "colab": {
          "base_uri": "https://localhost:8080/"
        },
        "id": "736eaa29",
        "outputId": "c0deea11-3d2d-4315-ca8f-fe9cd1b7db77"
      },
      "outputs": [
        {
          "output_type": "execute_result",
          "data": {
            "text/plain": [
              "array([[False],\n",
              "       [False],\n",
              "       [False],\n",
              "       ...,\n",
              "       [False],\n",
              "       [False],\n",
              "       [False]])"
            ]
          },
          "metadata": {},
          "execution_count": 47
        }
      ],
      "source": [
        "y_pred = model.predict(X_test)\n",
        "y_pred = (y_pred > 0.5)\n",
        "y_pred"
      ]
    },
    {
      "cell_type": "code",
      "execution_count": null,
      "id": "4bc0fa73",
      "metadata": {
        "id": "4bc0fa73",
        "outputId": "692fd7e4-db6c-4aea-b900-6f1e8aa42fe7",
        "colab": {
          "base_uri": "https://localhost:8080/",
          "height": 268
        }
      },
      "outputs": [
        {
          "output_type": "display_data",
          "data": {
            "text/plain": [
              "<Figure size 432x288 with 2 Axes>"
            ],
            "image/png": "[encoded data removed]"
          },
          "metadata": {}
        }
      ],
      "source": [
        "# Calculating the confusion matrix \n",
        "from sklearn.metrics import confusion_matrix\n",
        "\n",
        "cm = confusion_matrix(y_test, y_pred)\n",
        "labels = ['True Positive','False Negative','False Positive','True Negative']\n",
        "categories = [ 'Not Changing Job','Changing Job']\n",
        "make_confusion_matrix(cm, \n",
        "                      group_names=labels,\n",
        "                      categories=categories, \n",
        "                      cmap='Blues')"
      ]
    },
    {
      "cell_type": "markdown",
      "id": "TCdQTb13t8TR",
      "metadata": {
        "id": "TCdQTb13t8TR"
      },
      "source": [
        "**Observations:**\n",
        "\n",
        "- The 0.05 percent of False Negatives is due to the model's threshold of 0.5 and as this is an imbalanced dataset, we should calculate the threshold using the AUC-ROC curve. "
      ]
    },
    {
      "cell_type": "code",
      "execution_count": null,
      "id": "db503c7c",
      "metadata": {
        "colab": {
          "base_uri": "https://localhost:8080/"
        },
        "id": "db503c7c",
        "outputId": "cb5dfdb9-3f39-4fda-fb95-a05e12b45adb"
      },
      "outputs": [
        {
          "output_type": "stream",
          "name": "stdout",
          "text": [
            "              precision    recall  f1-score   support\n",
            "\n",
            "           0       0.75      1.00      0.86      2877\n",
            "           1       0.71      0.01      0.01       955\n",
            "\n",
            "    accuracy                           0.75      3832\n",
            "   macro avg       0.73      0.50      0.43      3832\n",
            "weighted avg       0.74      0.75      0.65      3832\n",
            "\n"
          ]
        }
      ],
      "source": [
        "# Classification report \n",
        "\n",
        "from sklearn import metrics\n",
        "cr = metrics.classification_report(y_test,y_pred)\n",
        "print(cr)"
      ]
    },
    {
      "cell_type": "markdown",
      "id": "J7KMImGhp8BM",
      "metadata": {
        "id": "J7KMImGhp8BM"
      },
      "source": [
        "As you can see, the above model has good accuracy but a poor F1-score. This could be due to the imbalanced dataset. We observe that the False positive rates are also high, which should be considerably lower. \n",
        "\n",
        "1) **Imbalanced dataset**: As you have seen in the EDA, this dataset is imbalanced, and it contains more examples that belong to the **0** class.\n",
        "\n",
        "2) **Decision Threshold**: Due to the imbalanced dataset, we can use ROC-AUC to find the optimal threshold and use the same for prediction.\n",
        "\n",
        "\n",
        "**Let's try to change the optimizer, tune the decision threshold, increase the layers and configure some other hyperparameters accordingly, in order to improve the model's performance.**"
      ]
    },
    {
      "cell_type": "markdown",
      "id": "OVP052ZnrGIW",
      "metadata": {
        "id": "OVP052ZnrGIW"
      },
      "source": [
        "### **Model 2**"
      ]
    },
    {
      "cell_type": "code",
      "execution_count": null,
      "id": "aa6ab163",
      "metadata": {
        "id": "aa6ab163"
      },
      "outputs": [],
      "source": [
        "backend.clear_session()\n",
        "np.random.seed(42)\n",
        "import random\n",
        "random.seed(42)\n",
        "tf.random.set_seed(42)"
      ]
    },
    {
      "cell_type": "code",
      "execution_count": null,
      "id": "f28e1ac8",
      "metadata": {
        "id": "f28e1ac8"
      },
      "outputs": [],
      "source": [
        "model1 = Sequential()\n",
        "\n",
        "# Adding the hidden and output layers\n",
        "model1.add(Dense(256,activation='relu',kernel_initializer='he_uniform',input_dim = X_train.shape[1]))\n",
        "model1.add(Dense(128,activation='relu',kernel_initializer='he_uniform'))\n",
        "model1.add(Dense(64,activation='relu',kernel_initializer='he_uniform'))\n",
        "model1.add(Dense(32,activation='relu',kernel_initializer='he_uniform'))\n",
        "model1.add(Dense(1, activation = 'sigmoid'))\n",
        "\n",
        "# Compiling the ANN with Adam optimizer and binary cross entropy loss function \n",
        "optimizer = tf.keras.optimizers.Adam(0.001)\n",
        "model1.compile(loss='binary_crossentropy',optimizer=optimizer,metrics=['accuracy'])"
      ]
    },
    {
      "cell_type": "code",
      "execution_count": null,
      "id": "edce4bae",
      "metadata": {
        "id": "edce4bae",
        "outputId": "b259afd0-21a0-44a8-f492-84ff78de11cf",
        "colab": {
          "base_uri": "https://localhost:8080/"
        }
      },
      "outputs": [
        {
          "output_type": "stream",
          "name": "stdout",
          "text": [
            "Model: \"sequential\"\n",
            "_________________________________________________________________\n",
            " Layer (type)                Output Shape              Param #   \n",
            "=================================================================\n",
            " dense (Dense)               (None, 256)               2560      \n",
            "                                                                 \n",
            " dense_1 (Dense)             (None, 128)               32896     \n",
            "                                                                 \n",
            " dense_2 (Dense)             (None, 64)                8256      \n",
            "                                                                 \n",
            " dense_3 (Dense)             (None, 32)                2080      \n",
            "                                                                 \n",
            " dense_4 (Dense)             (None, 1)                 33        \n",
            "                                                                 \n",
            "=================================================================\n",
            "Total params: 45,825\n",
            "Trainable params: 45,825\n",
            "Non-trainable params: 0\n",
            "_________________________________________________________________\n"
          ]
        }
      ],
      "source": [
        "model1.summary()"
      ]
    },
    {
      "cell_type": "code",
      "execution_count": null,
      "id": "7428ed0c",
      "metadata": {
        "id": "7428ed0c",
        "scrolled": true,
        "outputId": "1f44ee67-6783-466d-b1a5-48e49961de42",
        "colab": {
          "base_uri": "https://localhost:8080/"
        }
      },
      "outputs": [
        {
          "output_type": "stream",
          "name": "stdout",
          "text": [
            "Epoch 1/50\n",
            "192/192 [==============================] - 1s 4ms/step - loss: 1.2938 - accuracy: 0.6868 - val_loss: 0.6469 - val_accuracy: 0.6155\n",
            "Epoch 2/50\n",
            "192/192 [==============================] - 1s 4ms/step - loss: 0.6944 - accuracy: 0.7125 - val_loss: 0.5464 - val_accuracy: 0.7528\n",
            "Epoch 3/50\n",
            "192/192 [==============================] - 1s 4ms/step - loss: 0.6645 - accuracy: 0.7178 - val_loss: 0.6192 - val_accuracy: 0.7511\n",
            "Epoch 4/50\n",
            "192/192 [==============================] - 1s 4ms/step - loss: 0.6088 - accuracy: 0.7277 - val_loss: 0.5702 - val_accuracy: 0.7211\n",
            "Epoch 5/50\n",
            "192/192 [==============================] - 1s 4ms/step - loss: 0.5810 - accuracy: 0.7351 - val_loss: 0.6151 - val_accuracy: 0.7511\n",
            "Epoch 6/50\n",
            "192/192 [==============================] - 1s 4ms/step - loss: 0.5763 - accuracy: 0.7366 - val_loss: 0.6041 - val_accuracy: 0.7502\n",
            "Epoch 7/50\n",
            "192/192 [==============================] - 1s 4ms/step - loss: 0.5796 - accuracy: 0.7369 - val_loss: 0.5386 - val_accuracy: 0.7511\n",
            "Epoch 8/50\n",
            "192/192 [==============================] - 1s 4ms/step - loss: 0.5584 - accuracy: 0.7447 - val_loss: 0.5558 - val_accuracy: 0.7492\n",
            "Epoch 9/50\n",
            "192/192 [==============================] - 1s 4ms/step - loss: 0.5553 - accuracy: 0.7450 - val_loss: 0.5924 - val_accuracy: 0.7016\n",
            "Epoch 10/50\n",
            "192/192 [==============================] - 1s 4ms/step - loss: 0.5562 - accuracy: 0.7440 - val_loss: 0.5495 - val_accuracy: 0.7508\n",
            "Epoch 11/50\n",
            "192/192 [==============================] - 1s 4ms/step - loss: 0.5612 - accuracy: 0.7431 - val_loss: 0.5786 - val_accuracy: 0.7502\n",
            "Epoch 12/50\n",
            "192/192 [==============================] - 1s 4ms/step - loss: 0.5696 - accuracy: 0.7474 - val_loss: 0.5765 - val_accuracy: 0.7482\n",
            "Epoch 13/50\n",
            "192/192 [==============================] - 1s 4ms/step - loss: 0.5577 - accuracy: 0.7473 - val_loss: 0.5535 - val_accuracy: 0.7521\n",
            "Epoch 14/50\n",
            "192/192 [==============================] - 1s 4ms/step - loss: 0.5497 - accuracy: 0.7483 - val_loss: 0.5621 - val_accuracy: 0.7492\n",
            "Epoch 15/50\n",
            "192/192 [==============================] - 1s 4ms/step - loss: 0.5476 - accuracy: 0.7493 - val_loss: 0.5885 - val_accuracy: 0.7502\n",
            "Epoch 16/50\n",
            "192/192 [==============================] - 1s 4ms/step - loss: 0.5545 - accuracy: 0.7488 - val_loss: 0.5533 - val_accuracy: 0.7485\n",
            "Epoch 17/50\n",
            "192/192 [==============================] - 1s 4ms/step - loss: 0.5407 - accuracy: 0.7504 - val_loss: 0.5392 - val_accuracy: 0.7515\n",
            "Epoch 18/50\n",
            "192/192 [==============================] - 1s 4ms/step - loss: 0.5452 - accuracy: 0.7502 - val_loss: 0.5307 - val_accuracy: 0.7492\n",
            "Epoch 19/50\n",
            "192/192 [==============================] - 1s 4ms/step - loss: 0.5366 - accuracy: 0.7527 - val_loss: 0.5469 - val_accuracy: 0.7518\n",
            "Epoch 20/50\n",
            "192/192 [==============================] - 1s 4ms/step - loss: 0.5423 - accuracy: 0.7520 - val_loss: 0.5421 - val_accuracy: 0.7485\n",
            "Epoch 21/50\n",
            "192/192 [==============================] - 1s 4ms/step - loss: 0.5408 - accuracy: 0.7502 - val_loss: 0.5268 - val_accuracy: 0.7515\n",
            "Epoch 22/50\n",
            "192/192 [==============================] - 1s 4ms/step - loss: 0.5413 - accuracy: 0.7511 - val_loss: 0.5372 - val_accuracy: 0.7515\n",
            "Epoch 23/50\n",
            "192/192 [==============================] - 1s 4ms/step - loss: 0.5397 - accuracy: 0.7511 - val_loss: 0.5405 - val_accuracy: 0.7502\n",
            "Epoch 24/50\n",
            "192/192 [==============================] - 1s 4ms/step - loss: 0.5377 - accuracy: 0.7500 - val_loss: 0.5325 - val_accuracy: 0.7479\n",
            "Epoch 25/50\n",
            "192/192 [==============================] - 1s 4ms/step - loss: 0.5398 - accuracy: 0.7526 - val_loss: 0.5423 - val_accuracy: 0.7446\n",
            "Epoch 26/50\n",
            "192/192 [==============================] - 1s 4ms/step - loss: 0.5341 - accuracy: 0.7508 - val_loss: 0.5682 - val_accuracy: 0.7505\n",
            "Epoch 27/50\n",
            "192/192 [==============================] - 1s 4ms/step - loss: 0.5323 - accuracy: 0.7512 - val_loss: 0.5600 - val_accuracy: 0.7495\n",
            "Epoch 28/50\n",
            "192/192 [==============================] - 1s 4ms/step - loss: 0.5370 - accuracy: 0.7509 - val_loss: 0.5289 - val_accuracy: 0.7485\n",
            "Epoch 29/50\n",
            "192/192 [==============================] - 1s 4ms/step - loss: 0.5316 - accuracy: 0.7524 - val_loss: 0.5200 - val_accuracy: 0.7489\n",
            "Epoch 30/50\n",
            "192/192 [==============================] - 1s 4ms/step - loss: 0.5296 - accuracy: 0.7536 - val_loss: 0.5395 - val_accuracy: 0.7524\n",
            "Epoch 31/50\n",
            "192/192 [==============================] - 1s 4ms/step - loss: 0.5243 - accuracy: 0.7555 - val_loss: 0.5234 - val_accuracy: 0.7492\n",
            "Epoch 32/50\n",
            "192/192 [==============================] - 1s 4ms/step - loss: 0.5306 - accuracy: 0.7548 - val_loss: 0.5245 - val_accuracy: 0.7476\n",
            "Epoch 33/50\n",
            "192/192 [==============================] - 1s 4ms/step - loss: 0.5269 - accuracy: 0.7528 - val_loss: 0.5230 - val_accuracy: 0.7492\n",
            "Epoch 34/50\n",
            "192/192 [==============================] - 1s 4ms/step - loss: 0.5315 - accuracy: 0.7542 - val_loss: 0.5250 - val_accuracy: 0.7518\n",
            "Epoch 35/50\n",
            "192/192 [==============================] - 1s 4ms/step - loss: 0.5190 - accuracy: 0.7544 - val_loss: 0.5572 - val_accuracy: 0.7521\n",
            "Epoch 36/50\n",
            "192/192 [==============================] - 1s 4ms/step - loss: 0.5243 - accuracy: 0.7551 - val_loss: 0.5171 - val_accuracy: 0.7505\n",
            "Epoch 37/50\n",
            "192/192 [==============================] - 1s 4ms/step - loss: 0.5249 - accuracy: 0.7541 - val_loss: 0.5618 - val_accuracy: 0.7476\n",
            "Epoch 38/50\n",
            "192/192 [==============================] - 1s 4ms/step - loss: 0.5316 - accuracy: 0.7534 - val_loss: 0.5196 - val_accuracy: 0.7521\n",
            "Epoch 39/50\n",
            "192/192 [==============================] - 1s 4ms/step - loss: 0.5218 - accuracy: 0.7563 - val_loss: 0.5167 - val_accuracy: 0.7502\n",
            "Epoch 40/50\n",
            "192/192 [==============================] - 1s 4ms/step - loss: 0.5270 - accuracy: 0.7546 - val_loss: 0.5255 - val_accuracy: 0.7505\n",
            "Epoch 41/50\n",
            "192/192 [==============================] - 1s 4ms/step - loss: 0.5234 - accuracy: 0.7547 - val_loss: 0.5199 - val_accuracy: 0.7498\n",
            "Epoch 42/50\n",
            "192/192 [==============================] - 1s 4ms/step - loss: 0.5264 - accuracy: 0.7567 - val_loss: 0.5529 - val_accuracy: 0.7570\n",
            "Epoch 43/50\n",
            "192/192 [==============================] - 1s 4ms/step - loss: 0.5201 - accuracy: 0.7541 - val_loss: 0.5376 - val_accuracy: 0.7515\n",
            "Epoch 44/50\n",
            "192/192 [==============================] - 1s 4ms/step - loss: 0.5242 - accuracy: 0.7562 - val_loss: 0.5282 - val_accuracy: 0.7482\n",
            "Epoch 45/50\n",
            "192/192 [==============================] - 1s 4ms/step - loss: 0.5235 - accuracy: 0.7552 - val_loss: 0.5221 - val_accuracy: 0.7534\n",
            "Epoch 46/50\n",
            "192/192 [==============================] - 1s 4ms/step - loss: 0.5228 - accuracy: 0.7533 - val_loss: 0.5347 - val_accuracy: 0.7518\n",
            "Epoch 47/50\n",
            "192/192 [==============================] - 1s 4ms/step - loss: 0.5176 - accuracy: 0.7580 - val_loss: 0.5369 - val_accuracy: 0.7603\n",
            "Epoch 48/50\n",
            "192/192 [==============================] - 1s 4ms/step - loss: 0.5159 - accuracy: 0.7539 - val_loss: 0.5231 - val_accuracy: 0.7482\n",
            "Epoch 49/50\n",
            "192/192 [==============================] - 1s 4ms/step - loss: 0.5160 - accuracy: 0.7545 - val_loss: 0.5542 - val_accuracy: 0.7518\n",
            "Epoch 50/50\n",
            "192/192 [==============================] - 1s 4ms/step - loss: 0.5114 - accuracy: 0.7581 - val_loss: 0.5265 - val_accuracy: 0.7544\n"
          ]
        }
      ],
      "source": [
        "history1 = model1.fit(X_train,y_train,batch_size=64,epochs=50,verbose=1,validation_split = 0.2)"
      ]
    },
    {
      "cell_type": "code",
      "execution_count": null,
      "id": "374b3d3d",
      "metadata": {
        "id": "374b3d3d",
        "outputId": "a8db59a1-d581-4560-bddd-3e417c356baa",
        "colab": {
          "base_uri": "https://localhost:8080/",
          "height": 301
        }
      },
      "outputs": [
        {
          "output_type": "display_data",
          "data": {
            "text/plain": [
              "<Figure size 432x288 with 1 Axes>"
            ],
            "image/png": "[encoded data removed]"
          },
          "metadata": {}
        }
      ],
      "source": [
        "# Plotting Train Loss vs Validation Loss\n",
        "plt.plot(history1.history['loss'])\n",
        "plt.plot(history1.history['val_loss'])\n",
        "\n",
        "plt.title('model loss')\n",
        "plt.ylabel('Loss')\n",
        "plt.xlabel('Epoch')\n",
        "plt.legend(['train', 'validation'], loc='upper left')\n",
        "plt.show()"
      ]
    },
    {
      "cell_type": "markdown",
      "id": "gMFr6WXnrd7a",
      "metadata": {
        "id": "gMFr6WXnrd7a"
      },
      "source": [
        "**Observations:**\n",
        "\n",
        "- We can see smoother loss curves for both train and validation as we increase the depth of the neural network and change the optimizer to Adam."
      ]
    },
    {
      "cell_type": "code",
      "execution_count": null,
      "id": "c246e539",
      "metadata": {
        "id": "c246e539",
        "outputId": "53000c9b-01e3-47c7-fc1e-e7b6df51eb5f",
        "colab": {
          "base_uri": "https://localhost:8080/",
          "height": 302
        }
      },
      "outputs": [
        {
          "output_type": "stream",
          "name": "stdout",
          "text": [
            "Best Threshold=0.182898, G-Mean=0.672\n"
          ]
        },
        {
          "output_type": "display_data",
          "data": {
            "text/plain": [
              "<Figure size 432x288 with 1 Axes>"
            ],
            "image/png": "[encoded data removed]"
          },
          "metadata": {}
        }
      ],
      "source": [
        "# Predict probabilities\n",
        "yhat1 = model1.predict(X_test)\n",
        "\n",
        "# Keep probabilities for the positive outcome only\n",
        "yhat1 = yhat1[:, 0]\n",
        "\n",
        "# Calculate roc curves\n",
        "fpr, tpr, thresholds1 = roc_curve(y_test, yhat1)\n",
        "\n",
        "# Calculate the g-mean for each threshold\n",
        "gmeans1 = np.sqrt(tpr * (1-fpr))\n",
        "\n",
        "# Locate the index of the largest g-mean\n",
        "ix = np.argmax(gmeans1)\n",
        "print('Best Threshold=%f, G-Mean=%.3f' % (thresholds1[ix], gmeans1[ix]))\n",
        "\n",
        "# Plot the roc curve for the model\n",
        "pyplot.plot([0,1], [0,1], linestyle='--', label='No Skill')\n",
        "pyplot.plot(fpr, tpr, marker='.')\n",
        "pyplot.scatter(fpr[ix], tpr[ix], marker='o', color='black', label='Best')\n",
        "\n",
        "# Axis labels\n",
        "pyplot.xlabel('False Positive Rate')\n",
        "pyplot.ylabel('True Positive Rate')\n",
        "pyplot.legend()\n",
        "\n",
        "# Show the plot\n",
        "pyplot.show()"
      ]
    },
    {
      "cell_type": "markdown",
      "id": "V3j3bdd09zQ3",
      "metadata": {
        "id": "V3j3bdd09zQ3"
      },
      "source": [
        "**Let's tune the threshold using ROC-AUC**\n",
        "\n",
        "There are many ways we could locate the threshold with the optimal balance between false positive and true positive rates. \n",
        "\n",
        "Firstly, the true positive rate is called the Sensitivity. The inverse of the false-positive rate is called the Specificity.\n",
        "\n",
        "**Sensitivity = True Positive / (True Positive + False Negative)**\n",
        "\n",
        "**Specificity = True Negative / (False Positive + True Negative)**\n",
        "\n",
        "Where:\n",
        "\n",
        "Sensitivity = True Positive Rate\n",
        "\n",
        "Specificity = 1 – False Positive Rate\n",
        "\n",
        "The Geometric Mean or G-Mean is a metric for imbalanced classification that, if optimized, will seek a balance between the sensitivity and the specificity.\n",
        "\n",
        "**G-Mean = sqrt(Sensitivity * Specificity)**\n",
        "\n",
        "One approach would be to test the model with each threshold returned from the call roc_auc_score(),and select the threshold with the **largest G-Mean value.**"
      ]
    },
    {
      "cell_type": "code",
      "execution_count": null,
      "id": "da781510",
      "metadata": {
        "id": "da781510",
        "outputId": "667a95f7-f954-4c5f-de68-ecd6ef0f3334",
        "colab": {
          "base_uri": "https://localhost:8080/"
        }
      },
      "outputs": [
        {
          "output_type": "execute_result",
          "data": {
            "text/plain": [
              "array([[False],\n",
              "       [ True],\n",
              "       [False],\n",
              "       ...,\n",
              "       [False],\n",
              "       [False],\n",
              "       [False]])"
            ]
          },
          "metadata": {},
          "execution_count": 56
        }
      ],
      "source": [
        "# Predicting the results using best as a threshold\n",
        "y_pred_e1 = model1.predict(X_test)\n",
        "y_pred_e1 = (y_pred_e1 > thresholds1[ix])\n",
        "y_pred_e1"
      ]
    },
    {
      "cell_type": "code",
      "execution_count": null,
      "id": "b122cd40",
      "metadata": {
        "id": "b122cd40",
        "outputId": "ae850a4a-350f-4d12-9ec8-1e200ac210ad",
        "colab": {
          "base_uri": "https://localhost:8080/",
          "height": 268
        }
      },
      "outputs": [
        {
          "output_type": "display_data",
          "data": {
            "text/plain": [
              "<Figure size 432x288 with 2 Axes>"
            ],
            "image/png": "[encoded data removed]"
          },
          "metadata": {}
        }
      ],
      "source": [
        "# Calculating the confusion matrix \n",
        "from sklearn.metrics import confusion_matrix\n",
        "\n",
        "cm1 = confusion_matrix(y_test, y_pred_e1)\n",
        "labels = ['True Positive','False Negative','False Positive','True Negative']\n",
        "categories = ['Not Changing Job','Changing Job']\n",
        "make_confusion_matrix(cm1, \n",
        "                      group_names=labels,\n",
        "                      categories=categories, \n",
        "                      cmap='Blues')"
      ]
    },
    {
      "cell_type": "code",
      "execution_count": null,
      "id": "8c0f494c",
      "metadata": {
        "id": "8c0f494c",
        "outputId": "7963ff8b-52bc-4821-b8b1-f330df8a4661",
        "colab": {
          "base_uri": "https://localhost:8080/"
        }
      },
      "outputs": [
        {
          "output_type": "stream",
          "name": "stdout",
          "text": [
            "              precision    recall  f1-score   support\n",
            "\n",
            "           0       0.86      0.65      0.74      2877\n",
            "           1       0.40      0.69      0.50       955\n",
            "\n",
            "    accuracy                           0.66      3832\n",
            "   macro avg       0.63      0.67      0.62      3832\n",
            "weighted avg       0.75      0.66      0.68      3832\n",
            "\n"
          ]
        }
      ],
      "source": [
        "# Classification report \n",
        "from sklearn import metrics\n",
        "cr = metrics.classification_report(y_test,y_pred_e1)\n",
        "print(cr)"
      ]
    },
    {
      "cell_type": "markdown",
      "id": "W7z7UJyNsWTT",
      "metadata": {
        "id": "W7z7UJyNsWTT"
      },
      "source": [
        "- As the number of layers in the neural network has increased, we can see that the macro F1 score has increased, and the False Negative percentage has decreased. \n",
        "\n",
        "**Now let's try to use the Batch Normalization technique and check to see if we can increase the F1 score.**"
      ]
    },
    {
      "cell_type": "markdown",
      "id": "qj44kS6ss1g0",
      "metadata": {
        "id": "qj44kS6ss1g0"
      },
      "source": [
        "### **Model 3**"
      ]
    },
    {
      "cell_type": "code",
      "execution_count": null,
      "id": "3cbb0b11",
      "metadata": {
        "id": "3cbb0b11"
      },
      "outputs": [],
      "source": [
        "backend.clear_session()\n",
        "np.random.seed(42)\n",
        "import random\n",
        "random.seed(42)\n",
        "tf.random.set_seed(42)"
      ]
    },
    {
      "cell_type": "code",
      "execution_count": null,
      "id": "bb444060",
      "metadata": {
        "id": "bb444060"
      },
      "outputs": [],
      "source": [
        "model2 = Sequential()\n",
        "model2.add(Dense(128,activation='relu',input_dim = X_train.shape[1]))\n",
        "model2.add(BatchNormalization())\n",
        "model2.add(Dense(64,activation='relu',kernel_initializer='he_uniform'))\n",
        "model2.add(BatchNormalization())\n",
        "model2.add(Dense(32,activation='relu',kernel_initializer='he_uniform'))\n",
        "model2.add(Dense(1, activation = 'sigmoid'))"
      ]
    },
    {
      "cell_type": "code",
      "execution_count": null,
      "id": "4a618085",
      "metadata": {
        "id": "4a618085",
        "outputId": "91c21efd-9862-45b2-cf75-154cb8408bd9",
        "colab": {
          "base_uri": "https://localhost:8080/"
        }
      },
      "outputs": [
        {
          "output_type": "stream",
          "name": "stdout",
          "text": [
            "Model: \"sequential\"\n",
            "_________________________________________________________________\n",
            " Layer (type)                Output Shape              Param #   \n",
            "=================================================================\n",
            " dense (Dense)               (None, 128)               1280      \n",
            "                                                                 \n",
            " batch_normalization (BatchN  (None, 128)              512       \n",
            " ormalization)                                                   \n",
            "                                                                 \n",
            " dense_1 (Dense)             (None, 64)                8256      \n",
            "                                                                 \n",
            " batch_normalization_1 (Batc  (None, 64)               256       \n",
            " hNormalization)                                                 \n",
            "                                                                 \n",
            " dense_2 (Dense)             (None, 32)                2080      \n",
            "                                                                 \n",
            " dense_3 (Dense)             (None, 1)                 33        \n",
            "                                                                 \n",
            "=================================================================\n",
            "Total params: 12,417\n",
            "Trainable params: 12,033\n",
            "Non-trainable params: 384\n",
            "_________________________________________________________________\n"
          ]
        }
      ],
      "source": [
        "model2.summary()"
      ]
    },
    {
      "cell_type": "code",
      "execution_count": null,
      "id": "d12e4397",
      "metadata": {
        "id": "d12e4397"
      },
      "outputs": [],
      "source": [
        "optimizer = tf.keras.optimizers.Adam(0.001)\n",
        "model2.compile(loss='binary_crossentropy',optimizer=optimizer,metrics=['accuracy'])"
      ]
    },
    {
      "cell_type": "code",
      "execution_count": null,
      "id": "b6f117d7",
      "metadata": {
        "id": "b6f117d7",
        "scrolled": true,
        "outputId": "eb777c82-e30d-44df-c1b9-dd0b543e208c",
        "colab": {
          "base_uri": "https://localhost:8080/"
        }
      },
      "outputs": [
        {
          "output_type": "stream",
          "name": "stdout",
          "text": [
            "Epoch 1/50\n",
            "192/192 [==============================] - 4s 10ms/step - loss: 0.5691 - accuracy: 0.7411 - val_loss: 0.5559 - val_accuracy: 0.7515\n",
            "Epoch 2/50\n",
            "192/192 [==============================] - 1s 7ms/step - loss: 0.5461 - accuracy: 0.7472 - val_loss: 0.5360 - val_accuracy: 0.7531\n",
            "Epoch 3/50\n",
            "192/192 [==============================] - 2s 8ms/step - loss: 0.5294 - accuracy: 0.7520 - val_loss: 0.5203 - val_accuracy: 0.7515\n",
            "Epoch 4/50\n",
            "192/192 [==============================] - 2s 8ms/step - loss: 0.5120 - accuracy: 0.7624 - val_loss: 0.5223 - val_accuracy: 0.7518\n",
            "Epoch 5/50\n",
            "192/192 [==============================] - 2s 9ms/step - loss: 0.5066 - accuracy: 0.7629 - val_loss: 0.5243 - val_accuracy: 0.7655\n",
            "Epoch 6/50\n",
            "192/192 [==============================] - 1s 7ms/step - loss: 0.5052 - accuracy: 0.7589 - val_loss: 0.5201 - val_accuracy: 0.7590\n",
            "Epoch 7/50\n",
            "192/192 [==============================] - 1s 7ms/step - loss: 0.5031 - accuracy: 0.7612 - val_loss: 0.5200 - val_accuracy: 0.7479\n",
            "Epoch 8/50\n",
            "192/192 [==============================] - 2s 9ms/step - loss: 0.5028 - accuracy: 0.7625 - val_loss: 0.5065 - val_accuracy: 0.7661\n",
            "Epoch 9/50\n",
            "192/192 [==============================] - 1s 8ms/step - loss: 0.5004 - accuracy: 0.7642 - val_loss: 0.5160 - val_accuracy: 0.7586\n",
            "Epoch 10/50\n",
            "192/192 [==============================] - 1s 7ms/step - loss: 0.4988 - accuracy: 0.7630 - val_loss: 0.6561 - val_accuracy: 0.6598\n",
            "Epoch 11/50\n",
            "192/192 [==============================] - 1s 7ms/step - loss: 0.4971 - accuracy: 0.7666 - val_loss: 0.4971 - val_accuracy: 0.7661\n",
            "Epoch 12/50\n",
            "192/192 [==============================] - 1s 5ms/step - loss: 0.4959 - accuracy: 0.7654 - val_loss: 0.5177 - val_accuracy: 0.7629\n",
            "Epoch 13/50\n",
            "192/192 [==============================] - 1s 4ms/step - loss: 0.4949 - accuracy: 0.7636 - val_loss: 0.5088 - val_accuracy: 0.7626\n",
            "Epoch 14/50\n",
            "192/192 [==============================] - 1s 4ms/step - loss: 0.4939 - accuracy: 0.7694 - val_loss: 0.5215 - val_accuracy: 0.7567\n",
            "Epoch 15/50\n",
            "192/192 [==============================] - 1s 5ms/step - loss: 0.4946 - accuracy: 0.7680 - val_loss: 0.5155 - val_accuracy: 0.7547\n",
            "Epoch 16/50\n",
            "192/192 [==============================] - 1s 4ms/step - loss: 0.4924 - accuracy: 0.7656 - val_loss: 0.4973 - val_accuracy: 0.7704\n",
            "Epoch 17/50\n",
            "192/192 [==============================] - 1s 4ms/step - loss: 0.4937 - accuracy: 0.7690 - val_loss: 0.5305 - val_accuracy: 0.7524\n",
            "Epoch 18/50\n",
            "192/192 [==============================] - 1s 4ms/step - loss: 0.4912 - accuracy: 0.7697 - val_loss: 0.4932 - val_accuracy: 0.7684\n",
            "Epoch 19/50\n",
            "192/192 [==============================] - 1s 5ms/step - loss: 0.4917 - accuracy: 0.7694 - val_loss: 0.5116 - val_accuracy: 0.7632\n",
            "Epoch 20/50\n",
            "192/192 [==============================] - 1s 4ms/step - loss: 0.4905 - accuracy: 0.7679 - val_loss: 0.4905 - val_accuracy: 0.7665\n",
            "Epoch 21/50\n",
            "192/192 [==============================] - 1s 4ms/step - loss: 0.4895 - accuracy: 0.7697 - val_loss: 0.5021 - val_accuracy: 0.7668\n",
            "Epoch 22/50\n",
            "192/192 [==============================] - 1s 5ms/step - loss: 0.4890 - accuracy: 0.7710 - val_loss: 0.4968 - val_accuracy: 0.7642\n",
            "Epoch 23/50\n",
            "192/192 [==============================] - 1s 5ms/step - loss: 0.4894 - accuracy: 0.7710 - val_loss: 0.5007 - val_accuracy: 0.7635\n",
            "Epoch 24/50\n",
            "192/192 [==============================] - 1s 5ms/step - loss: 0.4868 - accuracy: 0.7730 - val_loss: 0.4953 - val_accuracy: 0.7661\n",
            "Epoch 25/50\n",
            "192/192 [==============================] - 1s 5ms/step - loss: 0.4871 - accuracy: 0.7701 - val_loss: 0.4969 - val_accuracy: 0.7681\n",
            "Epoch 26/50\n",
            "192/192 [==============================] - 1s 5ms/step - loss: 0.4871 - accuracy: 0.7711 - val_loss: 0.5235 - val_accuracy: 0.7528\n",
            "Epoch 27/50\n",
            "192/192 [==============================] - 1s 5ms/step - loss: 0.4870 - accuracy: 0.7710 - val_loss: 0.4936 - val_accuracy: 0.7704\n",
            "Epoch 28/50\n",
            "192/192 [==============================] - 1s 5ms/step - loss: 0.4853 - accuracy: 0.7705 - val_loss: 0.5133 - val_accuracy: 0.7606\n",
            "Epoch 29/50\n",
            "192/192 [==============================] - 1s 5ms/step - loss: 0.4866 - accuracy: 0.7701 - val_loss: 0.5069 - val_accuracy: 0.7655\n",
            "Epoch 30/50\n",
            "192/192 [==============================] - 1s 5ms/step - loss: 0.4862 - accuracy: 0.7724 - val_loss: 0.5017 - val_accuracy: 0.7639\n",
            "Epoch 31/50\n",
            "192/192 [==============================] - 1s 5ms/step - loss: 0.4843 - accuracy: 0.7731 - val_loss: 0.4998 - val_accuracy: 0.7684\n",
            "Epoch 32/50\n",
            "192/192 [==============================] - 1s 5ms/step - loss: 0.4853 - accuracy: 0.7716 - val_loss: 0.4925 - val_accuracy: 0.7665\n",
            "Epoch 33/50\n",
            "192/192 [==============================] - 1s 5ms/step - loss: 0.4847 - accuracy: 0.7750 - val_loss: 0.4986 - val_accuracy: 0.7710\n",
            "Epoch 34/50\n",
            "192/192 [==============================] - 1s 4ms/step - loss: 0.4852 - accuracy: 0.7717 - val_loss: 0.4997 - val_accuracy: 0.7701\n",
            "Epoch 35/50\n",
            "192/192 [==============================] - 1s 5ms/step - loss: 0.4828 - accuracy: 0.7737 - val_loss: 0.4966 - val_accuracy: 0.7740\n",
            "Epoch 36/50\n",
            "192/192 [==============================] - 1s 5ms/step - loss: 0.4835 - accuracy: 0.7754 - val_loss: 0.4939 - val_accuracy: 0.7681\n",
            "Epoch 37/50\n",
            "192/192 [==============================] - 1s 5ms/step - loss: 0.4835 - accuracy: 0.7713 - val_loss: 0.5016 - val_accuracy: 0.7691\n",
            "Epoch 38/50\n",
            "192/192 [==============================] - 1s 4ms/step - loss: 0.4822 - accuracy: 0.7748 - val_loss: 0.4961 - val_accuracy: 0.7665\n",
            "Epoch 39/50\n",
            "192/192 [==============================] - 1s 5ms/step - loss: 0.4829 - accuracy: 0.7739 - val_loss: 0.5263 - val_accuracy: 0.7577\n",
            "Epoch 40/50\n",
            "192/192 [==============================] - 1s 5ms/step - loss: 0.4821 - accuracy: 0.7744 - val_loss: 0.4987 - val_accuracy: 0.7740\n",
            "Epoch 41/50\n",
            "192/192 [==============================] - 1s 5ms/step - loss: 0.4837 - accuracy: 0.7750 - val_loss: 0.5047 - val_accuracy: 0.7639\n",
            "Epoch 42/50\n",
            "192/192 [==============================] - 1s 4ms/step - loss: 0.4811 - accuracy: 0.7738 - val_loss: 0.5100 - val_accuracy: 0.7629\n",
            "Epoch 43/50\n",
            "192/192 [==============================] - 1s 5ms/step - loss: 0.4834 - accuracy: 0.7737 - val_loss: 0.4985 - val_accuracy: 0.7668\n",
            "Epoch 44/50\n",
            "192/192 [==============================] - 1s 5ms/step - loss: 0.4806 - accuracy: 0.7724 - val_loss: 0.5045 - val_accuracy: 0.7635\n",
            "Epoch 45/50\n",
            "192/192 [==============================] - 1s 5ms/step - loss: 0.4807 - accuracy: 0.7736 - val_loss: 0.5648 - val_accuracy: 0.7162\n",
            "Epoch 46/50\n",
            "192/192 [==============================] - 1s 5ms/step - loss: 0.4799 - accuracy: 0.7746 - val_loss: 0.5023 - val_accuracy: 0.7710\n",
            "Epoch 47/50\n",
            "192/192 [==============================] - 1s 5ms/step - loss: 0.4794 - accuracy: 0.7723 - val_loss: 0.5019 - val_accuracy: 0.7697\n",
            "Epoch 48/50\n",
            "192/192 [==============================] - 1s 5ms/step - loss: 0.4797 - accuracy: 0.7778 - val_loss: 0.4990 - val_accuracy: 0.7642\n",
            "Epoch 49/50\n",
            "192/192 [==============================] - 1s 5ms/step - loss: 0.4786 - accuracy: 0.7794 - val_loss: 0.5168 - val_accuracy: 0.7583\n",
            "Epoch 50/50\n",
            "192/192 [==============================] - 1s 5ms/step - loss: 0.4772 - accuracy: 0.7773 - val_loss: 0.5010 - val_accuracy: 0.7684\n"
          ]
        }
      ],
      "source": [
        "history_2 = model2.fit(X_train, y_train, batch_size=64, epochs=50, verbose=1, validation_split = 0.2)"
      ]
    },
    {
      "cell_type": "code",
      "execution_count": null,
      "id": "7107036f",
      "metadata": {
        "id": "7107036f",
        "outputId": "d6100cef-6040-4c1a-9457-d9a2ddc19968",
        "colab": {
          "base_uri": "https://localhost:8080/",
          "height": 301
        }
      },
      "outputs": [
        {
          "output_type": "display_data",
          "data": {
            "text/plain": [
              "<Figure size 432x288 with 1 Axes>"
            ],
            "image/png": "[encoded data removed]"
          },
          "metadata": {}
        }
      ],
      "source": [
        "# Plotting Train Loss vs Validation Loss\n",
        "plt.plot(history_2.history['loss'])\n",
        "plt.plot(history_2.history['val_loss'])\n",
        "\n",
        "plt.title('model loss')\n",
        "plt.ylabel('Loss')\n",
        "plt.xlabel('Epoch')\n",
        "plt.legend(['train', 'validation'], loc='upper left')\n",
        "plt.show()"
      ]
    },
    {
      "cell_type": "markdown",
      "id": "ysG7B3Fs-1Cr",
      "metadata": {
        "id": "ysG7B3Fs-1Cr"
      },
      "source": [
        "**Observations:**\n",
        "\n",
        "- Unfortunately, the above plot shows that the model contains a lot of noise, and it appears to have overfitted on the training data, as there is a significant difference in performance between train and validation."
      ]
    },
    {
      "cell_type": "code",
      "execution_count": null,
      "id": "38f473e3",
      "metadata": {
        "id": "38f473e3",
        "outputId": "4a5f026e-7cec-45bb-87a4-aab9a101a157",
        "colab": {
          "base_uri": "https://localhost:8080/",
          "height": 302
        }
      },
      "outputs": [
        {
          "output_type": "stream",
          "name": "stdout",
          "text": [
            "Best Threshold=0.209941, G-Mean=0.700\n"
          ]
        },
        {
          "output_type": "display_data",
          "data": {
            "text/plain": [
              "<Figure size 432x288 with 1 Axes>"
            ],
            "image/png": "[encoded data removed]"
          },
          "metadata": {}
        }
      ],
      "source": [
        "# Predict probabilities\n",
        "yhat2 = model2.predict(X_test)\n",
        "\n",
        "# Keep probabilities for the positive outcome only\n",
        "yhat2 = yhat2[:, 0]\n",
        "\n",
        "# Calculate roc curves\n",
        "fpr, tpr, thresholds2 = roc_curve(y_test, yhat2)\n",
        "\n",
        "# Calculate the g-mean for each threshold\n",
        "gmeans2 = np.sqrt(tpr * (1-fpr))\n",
        "\n",
        "# Locate the index of the largest g-mean\n",
        "ix = np.argmax(gmeans2)\n",
        "print('Best Threshold=%f, G-Mean=%.3f' % (thresholds2[ix], gmeans2[ix]))\n",
        "\n",
        "# Plot the roc curve for the model\n",
        "pyplot.plot([0,1], [0,1], linestyle='--', label='No Skill')\n",
        "pyplot.plot(fpr, tpr, marker='.')\n",
        "pyplot.scatter(fpr[ix], tpr[ix], marker='o', color='black', label='Best')\n",
        "\n",
        "# Axis labels\n",
        "pyplot.xlabel('False Positive Rate')\n",
        "pyplot.ylabel('True Positive Rate')\n",
        "pyplot.legend()\n",
        "\n",
        "# Show the plot\n",
        "pyplot.show()"
      ]
    },
    {
      "cell_type": "code",
      "execution_count": null,
      "id": "811a4523",
      "metadata": {
        "id": "811a4523",
        "outputId": "5abf7aa6-57ce-4e7d-e47c-4f940e824e78",
        "colab": {
          "base_uri": "https://localhost:8080/"
        }
      },
      "outputs": [
        {
          "output_type": "execute_result",
          "data": {
            "text/plain": [
              "array([[False],\n",
              "       [ True],\n",
              "       [False],\n",
              "       ...,\n",
              "       [False],\n",
              "       [False],\n",
              "       [False]])"
            ]
          },
          "metadata": {},
          "execution_count": 66
        }
      ],
      "source": [
        "y_pred_e2 = model2.predict(X_test)\n",
        "y_pred_e2 = (y_pred_e2 > thresholds2[ix])\n",
        "y_pred_e2"
      ]
    },
    {
      "cell_type": "code",
      "execution_count": null,
      "id": "ed69bea9",
      "metadata": {
        "id": "ed69bea9",
        "outputId": "f6f55b1c-f109-4a93-963e-6aff9e067129",
        "colab": {
          "base_uri": "https://localhost:8080/",
          "height": 268
        }
      },
      "outputs": [
        {
          "output_type": "display_data",
          "data": {
            "text/plain": [
              "<Figure size 432x288 with 2 Axes>"
            ],
            "image/png": "[encoded data removed]"
          },
          "metadata": {}
        }
      ],
      "source": [
        "# Calculating the confusion matrix \n",
        "from sklearn.metrics import confusion_matrix\n",
        "\n",
        "cm2 = confusion_matrix(y_test, y_pred_e2)\n",
        "labels = ['True Positive','False Negative','False Positive','True Negative']\n",
        "categories = [ 'Not Changing Job','Changing Job']\n",
        "make_confusion_matrix(cm2, \n",
        "                      group_names=labels,\n",
        "                      categories=categories, \n",
        "                      cmap='Blues')"
      ]
    },
    {
      "cell_type": "code",
      "execution_count": null,
      "id": "2d4d7c58",
      "metadata": {
        "id": "2d4d7c58",
        "outputId": "d29c6e8f-645d-48dc-b54d-22d7536ac07c",
        "colab": {
          "base_uri": "https://localhost:8080/"
        }
      },
      "outputs": [
        {
          "output_type": "stream",
          "name": "stdout",
          "text": [
            "              precision    recall  f1-score   support\n",
            "\n",
            "           0       0.87      0.71      0.79      2877\n",
            "           1       0.44      0.68      0.54       955\n",
            "\n",
            "    accuracy                           0.71      3832\n",
            "   macro avg       0.66      0.70      0.66      3832\n",
            "weighted avg       0.77      0.71      0.72      3832\n",
            "\n"
          ]
        }
      ],
      "source": [
        "# Classification report \n",
        "\n",
        "from sklearn import metrics\n",
        "cr2 = metrics.classification_report(y_test,y_pred_e2)\n",
        "print(cr2)"
      ]
    },
    {
      "cell_type": "markdown",
      "id": "W0FLVvSE73Je",
      "metadata": {
        "id": "W0FLVvSE73Je"
      },
      "source": [
        "- The Train and Validation curves seem to show overfitting despite having a good F1 score and a low False Negative rate. \n",
        "\n",
        "**Let's try to use the Dropout technique and check to see if it can reduce the False Negative rate.** "
      ]
    },
    {
      "cell_type": "markdown",
      "id": "uCforq1WvhMy",
      "metadata": {
        "id": "uCforq1WvhMy"
      },
      "source": [
        "### **Model 4**"
      ]
    },
    {
      "cell_type": "code",
      "execution_count": null,
      "id": "98392d80",
      "metadata": {
        "id": "98392d80"
      },
      "outputs": [],
      "source": [
        "backend.clear_session()\n",
        "np.random.seed(42)\n",
        "import random\n",
        "random.seed(42)\n",
        "tf.random.set_seed(42)"
      ]
    },
    {
      "cell_type": "code",
      "execution_count": null,
      "id": "70b0696f",
      "metadata": {
        "id": "70b0696f"
      },
      "outputs": [],
      "source": [
        "model3 = Sequential()\n",
        "model3.add(Dense(256,activation='relu',input_dim = X_train.shape[1]))\n",
        "model3.add(Dropout(0.2))\n",
        "model3.add(Dense(128,activation='relu'))\n",
        "model3.add(Dropout(0.2))\n",
        "model3.add(Dense(64,activation='relu'))\n",
        "model3.add(Dropout(0.2))\n",
        "model3.add(Dense(32,activation='relu'))\n",
        "model3.add(Dense(1, activation = 'sigmoid'))"
      ]
    },
    {
      "cell_type": "code",
      "execution_count": null,
      "id": "3db79146",
      "metadata": {
        "id": "3db79146",
        "outputId": "762cd36f-0fe5-4593-9549-5a19a76a9f38",
        "colab": {
          "base_uri": "https://localhost:8080/"
        }
      },
      "outputs": [
        {
          "output_type": "stream",
          "name": "stdout",
          "text": [
            "Model: \"sequential\"\n",
            "_________________________________________________________________\n",
            " Layer (type)                Output Shape              Param #   \n",
            "=================================================================\n",
            " dense (Dense)               (None, 256)               2560      \n",
            "                                                                 \n",
            " dropout (Dropout)           (None, 256)               0         \n",
            "                                                                 \n",
            " dense_1 (Dense)             (None, 128)               32896     \n",
            "                                                                 \n",
            " dropout_1 (Dropout)         (None, 128)               0         \n",
            "                                                                 \n",
            " dense_2 (Dense)             (None, 64)                8256      \n",
            "                                                                 \n",
            " dropout_2 (Dropout)         (None, 64)                0         \n",
            "                                                                 \n",
            " dense_3 (Dense)             (None, 32)                2080      \n",
            "                                                                 \n",
            " dense_4 (Dense)             (None, 1)                 33        \n",
            "                                                                 \n",
            "=================================================================\n",
            "Total params: 45,825\n",
            "Trainable params: 45,825\n",
            "Non-trainable params: 0\n",
            "_________________________________________________________________\n"
          ]
        }
      ],
      "source": [
        "model3.summary()"
      ]
    },
    {
      "cell_type": "code",
      "execution_count": null,
      "id": "618f876f",
      "metadata": {
        "id": "618f876f"
      },
      "outputs": [],
      "source": [
        "optimizer = tf.keras.optimizers.Adam(0.001)\n",
        "model3.compile(loss='binary_crossentropy',optimizer=optimizer,metrics=['accuracy'])"
      ]
    },
    {
      "cell_type": "code",
      "execution_count": null,
      "id": "43c11511",
      "metadata": {
        "id": "43c11511",
        "scrolled": true,
        "outputId": "a8ffd6ca-911d-4193-e22d-6e7db0bd5105",
        "colab": {
          "base_uri": "https://localhost:8080/"
        }
      },
      "outputs": [
        {
          "output_type": "stream",
          "name": "stdout",
          "text": [
            "Epoch 1/50\n",
            "192/192 [==============================] - 3s 8ms/step - loss: 0.6612 - accuracy: 0.7195 - val_loss: 0.5787 - val_accuracy: 0.7515\n",
            "Epoch 2/50\n",
            "192/192 [==============================] - 1s 6ms/step - loss: 0.5794 - accuracy: 0.7491 - val_loss: 0.5696 - val_accuracy: 0.7515\n",
            "Epoch 3/50\n",
            "192/192 [==============================] - 1s 6ms/step - loss: 0.5700 - accuracy: 0.7498 - val_loss: 0.5610 - val_accuracy: 0.7515\n",
            "Epoch 4/50\n",
            "192/192 [==============================] - 1s 6ms/step - loss: 0.5630 - accuracy: 0.7502 - val_loss: 0.5566 - val_accuracy: 0.7515\n",
            "Epoch 5/50\n",
            "192/192 [==============================] - 1s 6ms/step - loss: 0.5602 - accuracy: 0.7501 - val_loss: 0.5551 - val_accuracy: 0.7515\n",
            "Epoch 6/50\n",
            "192/192 [==============================] - 1s 6ms/step - loss: 0.5584 - accuracy: 0.7503 - val_loss: 0.5530 - val_accuracy: 0.7515\n",
            "Epoch 7/50\n",
            "192/192 [==============================] - 1s 6ms/step - loss: 0.5551 - accuracy: 0.7504 - val_loss: 0.5449 - val_accuracy: 0.7515\n",
            "Epoch 8/50\n",
            "192/192 [==============================] - 1s 6ms/step - loss: 0.5541 - accuracy: 0.7498 - val_loss: 0.5480 - val_accuracy: 0.7515\n",
            "Epoch 9/50\n",
            "192/192 [==============================] - 1s 6ms/step - loss: 0.5529 - accuracy: 0.7500 - val_loss: 0.5420 - val_accuracy: 0.7515\n",
            "Epoch 10/50\n",
            "192/192 [==============================] - 1s 6ms/step - loss: 0.5475 - accuracy: 0.7498 - val_loss: 0.5341 - val_accuracy: 0.7515\n",
            "Epoch 11/50\n",
            "192/192 [==============================] - 2s 8ms/step - loss: 0.5461 - accuracy: 0.7504 - val_loss: 0.5426 - val_accuracy: 0.7515\n",
            "Epoch 12/50\n",
            "192/192 [==============================] - 1s 6ms/step - loss: 0.5423 - accuracy: 0.7506 - val_loss: 0.5358 - val_accuracy: 0.7515\n",
            "Epoch 13/50\n",
            "192/192 [==============================] - 1s 6ms/step - loss: 0.5432 - accuracy: 0.7502 - val_loss: 0.5320 - val_accuracy: 0.7515\n",
            "Epoch 14/50\n",
            "192/192 [==============================] - 1s 5ms/step - loss: 0.5409 - accuracy: 0.7507 - val_loss: 0.5372 - val_accuracy: 0.7515\n",
            "Epoch 15/50\n",
            "192/192 [==============================] - 1s 6ms/step - loss: 0.5414 - accuracy: 0.7494 - val_loss: 0.5357 - val_accuracy: 0.7515\n",
            "Epoch 16/50\n",
            "192/192 [==============================] - 1s 5ms/step - loss: 0.5386 - accuracy: 0.7508 - val_loss: 0.5283 - val_accuracy: 0.7515\n",
            "Epoch 17/50\n",
            "192/192 [==============================] - 1s 4ms/step - loss: 0.5370 - accuracy: 0.7508 - val_loss: 0.5338 - val_accuracy: 0.7515\n",
            "Epoch 18/50\n",
            "192/192 [==============================] - 1s 4ms/step - loss: 0.5350 - accuracy: 0.7499 - val_loss: 0.5295 - val_accuracy: 0.7534\n",
            "Epoch 19/50\n",
            "192/192 [==============================] - 1s 4ms/step - loss: 0.5307 - accuracy: 0.7497 - val_loss: 0.5211 - val_accuracy: 0.7518\n",
            "Epoch 20/50\n",
            "192/192 [==============================] - 1s 4ms/step - loss: 0.5299 - accuracy: 0.7524 - val_loss: 0.5226 - val_accuracy: 0.7515\n",
            "Epoch 21/50\n",
            "192/192 [==============================] - 1s 4ms/step - loss: 0.5252 - accuracy: 0.7498 - val_loss: 0.5265 - val_accuracy: 0.7596\n",
            "Epoch 22/50\n",
            "192/192 [==============================] - 1s 4ms/step - loss: 0.5245 - accuracy: 0.7497 - val_loss: 0.5119 - val_accuracy: 0.7528\n",
            "Epoch 23/50\n",
            "192/192 [==============================] - 1s 4ms/step - loss: 0.5200 - accuracy: 0.7506 - val_loss: 0.5094 - val_accuracy: 0.7606\n",
            "Epoch 24/50\n",
            "192/192 [==============================] - 1s 4ms/step - loss: 0.5188 - accuracy: 0.7518 - val_loss: 0.5078 - val_accuracy: 0.7557\n",
            "Epoch 25/50\n",
            "192/192 [==============================] - 1s 4ms/step - loss: 0.5163 - accuracy: 0.7539 - val_loss: 0.5002 - val_accuracy: 0.7733\n",
            "Epoch 26/50\n",
            "192/192 [==============================] - 1s 4ms/step - loss: 0.5149 - accuracy: 0.7580 - val_loss: 0.5042 - val_accuracy: 0.7599\n",
            "Epoch 27/50\n",
            "192/192 [==============================] - 1s 4ms/step - loss: 0.5132 - accuracy: 0.7546 - val_loss: 0.4963 - val_accuracy: 0.7710\n",
            "Epoch 28/50\n",
            "192/192 [==============================] - 1s 4ms/step - loss: 0.5136 - accuracy: 0.7614 - val_loss: 0.4992 - val_accuracy: 0.7688\n",
            "Epoch 29/50\n",
            "192/192 [==============================] - 1s 4ms/step - loss: 0.5105 - accuracy: 0.7591 - val_loss: 0.5097 - val_accuracy: 0.7521\n",
            "Epoch 30/50\n",
            "192/192 [==============================] - 1s 4ms/step - loss: 0.5086 - accuracy: 0.7633 - val_loss: 0.4992 - val_accuracy: 0.7688\n",
            "Epoch 31/50\n",
            "192/192 [==============================] - 1s 4ms/step - loss: 0.5061 - accuracy: 0.7606 - val_loss: 0.4952 - val_accuracy: 0.7694\n",
            "Epoch 32/50\n",
            "192/192 [==============================] - 1s 4ms/step - loss: 0.5074 - accuracy: 0.7613 - val_loss: 0.5015 - val_accuracy: 0.7652\n",
            "Epoch 33/50\n",
            "192/192 [==============================] - 1s 4ms/step - loss: 0.5064 - accuracy: 0.7620 - val_loss: 0.5063 - val_accuracy: 0.7681\n",
            "Epoch 34/50\n",
            "192/192 [==============================] - 1s 4ms/step - loss: 0.5066 - accuracy: 0.7617 - val_loss: 0.4972 - val_accuracy: 0.7743\n",
            "Epoch 35/50\n",
            "192/192 [==============================] - 1s 4ms/step - loss: 0.5035 - accuracy: 0.7622 - val_loss: 0.4994 - val_accuracy: 0.7681\n",
            "Epoch 36/50\n",
            "192/192 [==============================] - 1s 4ms/step - loss: 0.5024 - accuracy: 0.7663 - val_loss: 0.4982 - val_accuracy: 0.7688\n",
            "Epoch 37/50\n",
            "192/192 [==============================] - 1s 4ms/step - loss: 0.5021 - accuracy: 0.7642 - val_loss: 0.5081 - val_accuracy: 0.7616\n",
            "Epoch 38/50\n",
            "192/192 [==============================] - 1s 4ms/step - loss: 0.5034 - accuracy: 0.7597 - val_loss: 0.4997 - val_accuracy: 0.7593\n",
            "Epoch 39/50\n",
            "192/192 [==============================] - 1s 4ms/step - loss: 0.5010 - accuracy: 0.7631 - val_loss: 0.4978 - val_accuracy: 0.7629\n",
            "Epoch 40/50\n",
            "192/192 [==============================] - 1s 4ms/step - loss: 0.4988 - accuracy: 0.7657 - val_loss: 0.4958 - val_accuracy: 0.7701\n",
            "Epoch 41/50\n",
            "192/192 [==============================] - 1s 4ms/step - loss: 0.4969 - accuracy: 0.7687 - val_loss: 0.5055 - val_accuracy: 0.7616\n",
            "Epoch 42/50\n",
            "192/192 [==============================] - 1s 4ms/step - loss: 0.5007 - accuracy: 0.7666 - val_loss: 0.4950 - val_accuracy: 0.7704\n",
            "Epoch 43/50\n",
            "192/192 [==============================] - 1s 4ms/step - loss: 0.5011 - accuracy: 0.7681 - val_loss: 0.4951 - val_accuracy: 0.7707\n",
            "Epoch 44/50\n",
            "192/192 [==============================] - 1s 4ms/step - loss: 0.4989 - accuracy: 0.7644 - val_loss: 0.5012 - val_accuracy: 0.7668\n",
            "Epoch 45/50\n",
            "192/192 [==============================] - 1s 4ms/step - loss: 0.5021 - accuracy: 0.7639 - val_loss: 0.4977 - val_accuracy: 0.7678\n",
            "Epoch 46/50\n",
            "192/192 [==============================] - 1s 4ms/step - loss: 0.4973 - accuracy: 0.7646 - val_loss: 0.5009 - val_accuracy: 0.7684\n",
            "Epoch 47/50\n",
            "192/192 [==============================] - 1s 4ms/step - loss: 0.4999 - accuracy: 0.7682 - val_loss: 0.5093 - val_accuracy: 0.7538\n",
            "Epoch 48/50\n",
            "192/192 [==============================] - 1s 4ms/step - loss: 0.4986 - accuracy: 0.7663 - val_loss: 0.4926 - val_accuracy: 0.7710\n",
            "Epoch 49/50\n",
            "192/192 [==============================] - 1s 4ms/step - loss: 0.4952 - accuracy: 0.7647 - val_loss: 0.4951 - val_accuracy: 0.7684\n",
            "Epoch 50/50\n",
            "192/192 [==============================] - 1s 4ms/step - loss: 0.4961 - accuracy: 0.7657 - val_loss: 0.4989 - val_accuracy: 0.7678\n"
          ]
        }
      ],
      "source": [
        "history_3 = model3.fit(X_train, y_train, batch_size=64, epochs=50, verbose=1, validation_split = 0.2)"
      ]
    },
    {
      "cell_type": "code",
      "execution_count": null,
      "id": "6dce2cc2",
      "metadata": {
        "id": "6dce2cc2",
        "outputId": "ba3a2127-467f-4676-f7cf-5d3014d2f1a3",
        "colab": {
          "base_uri": "https://localhost:8080/",
          "height": 301
        }
      },
      "outputs": [
        {
          "output_type": "display_data",
          "data": {
            "text/plain": [
              "<Figure size 432x288 with 1 Axes>"
            ],
            "image/png": "[encoded data removed]"
          },
          "metadata": {}
        }
      ],
      "source": [
        "# Plotting Train Loss vs Validation Loss\n",
        "plt.plot(history_3.history['loss'])\n",
        "plt.plot(history_3.history['val_loss'])\n",
        "\n",
        "plt.title('model loss')\n",
        "plt.ylabel('Loss')\n",
        "plt.xlabel('Epoch')\n",
        "plt.legend(['train', 'validation'], loc='upper left')\n",
        "plt.show()"
      ]
    },
    {
      "cell_type": "markdown",
      "id": "Q0E6Iua0_bG5",
      "metadata": {
        "id": "Q0E6Iua0_bG5"
      },
      "source": [
        "**Observations:**\n",
        "\n",
        "- From the above plot, we observe that both the curves - train and validation are smooth."
      ]
    },
    {
      "cell_type": "code",
      "execution_count": null,
      "id": "dcde0f48",
      "metadata": {
        "id": "dcde0f48",
        "outputId": "6194346c-b75d-4f58-e5b5-6532e3e9a4e3",
        "colab": {
          "base_uri": "https://localhost:8080/",
          "height": 302
        }
      },
      "outputs": [
        {
          "output_type": "stream",
          "name": "stdout",
          "text": [
            "Best Threshold=0.229962, G-Mean=0.705\n"
          ]
        },
        {
          "output_type": "display_data",
          "data": {
            "text/plain": [
              "<Figure size 432x288 with 1 Axes>"
            ],
            "image/png": "[encoded data removed]"
          },
          "metadata": {}
        }
      ],
      "source": [
        "# Predict probabilities\n",
        "yhat3 = model3.predict(X_test)\n",
        "\n",
        "# Keep probabilities for the positive outcome only\n",
        "yhat3 = yhat3[:, 0]\n",
        "\n",
        "# Calculate roc curves\n",
        "fpr, tpr, thresholds3 = roc_curve(y_test, yhat3)\n",
        "\n",
        "# Calculate the g-mean for each threshold\n",
        "gmeans3 = np.sqrt(tpr * (1-fpr))\n",
        "\n",
        "# Locate the index of the largest g-mean\n",
        "ix = np.argmax(gmeans3)\n",
        "print('Best Threshold=%f, G-Mean=%.3f' % (thresholds3[ix], gmeans3[ix]))\n",
        "\n",
        "# Plot the roc curve for the model\n",
        "pyplot.plot([0,1], [0,1], linestyle='--', label='No Skill')\n",
        "pyplot.plot(fpr, tpr, marker='.')\n",
        "pyplot.scatter(fpr[ix], tpr[ix], marker='o', color='black', label='Best')\n",
        "\n",
        "# Axis labels\n",
        "pyplot.xlabel('False Positive Rate')\n",
        "pyplot.ylabel('True Positive Rate')\n",
        "pyplot.legend()\n",
        "\n",
        "# Show the plot\n",
        "pyplot.show()"
      ]
    },
    {
      "cell_type": "code",
      "execution_count": null,
      "id": "a3968cc4",
      "metadata": {
        "id": "a3968cc4",
        "outputId": "1cf90dc3-950a-4576-f6c0-466e21bd4897",
        "colab": {
          "base_uri": "https://localhost:8080/"
        }
      },
      "outputs": [
        {
          "output_type": "execute_result",
          "data": {
            "text/plain": [
              "array([[False],\n",
              "       [ True],\n",
              "       [False],\n",
              "       ...,\n",
              "       [False],\n",
              "       [False],\n",
              "       [False]])"
            ]
          },
          "metadata": {},
          "execution_count": 76
        }
      ],
      "source": [
        "y_pred_e3 = model3.predict(X_test)\n",
        "y_pred_e3 = (y_pred_e3 > thresholds3[ix])\n",
        "y_pred_e3"
      ]
    },
    {
      "cell_type": "code",
      "execution_count": null,
      "id": "bc8c9109",
      "metadata": {
        "id": "bc8c9109",
        "outputId": "9fc95078-29d1-4924-b68c-36bc94392b54",
        "colab": {
          "base_uri": "https://localhost:8080/",
          "height": 268
        }
      },
      "outputs": [
        {
          "output_type": "display_data",
          "data": {
            "text/plain": [
              "<Figure size 432x288 with 2 Axes>"
            ],
            "image/png": "[encoded data removed]"
          },
          "metadata": {}
        }
      ],
      "source": [
        "# Calculating the confusion matrix \n",
        "from sklearn.metrics import confusion_matrix\n",
        "\n",
        "cm3 = confusion_matrix(y_test, y_pred_e3)\n",
        "labels = ['True Positive','False Negative','False Positive','True Negative']\n",
        "categories = ['Not Changing Job','Changing Job']\n",
        "make_confusion_matrix(cm3, \n",
        "                      group_names=labels,\n",
        "                      categories=categories, \n",
        "                      cmap='Blues')"
      ]
    },
    {
      "cell_type": "code",
      "execution_count": null,
      "id": "a29e2a3f",
      "metadata": {
        "id": "a29e2a3f",
        "outputId": "a9c52248-2eae-4927-bb25-9006bd3efa93",
        "colab": {
          "base_uri": "https://localhost:8080/"
        }
      },
      "outputs": [
        {
          "output_type": "stream",
          "name": "stdout",
          "text": [
            "              precision    recall  f1-score   support\n",
            "\n",
            "           0       0.87      0.74      0.80      2877\n",
            "           1       0.46      0.67      0.55       955\n",
            "\n",
            "    accuracy                           0.72      3832\n",
            "   macro avg       0.67      0.71      0.67      3832\n",
            "weighted avg       0.77      0.72      0.74      3832\n",
            "\n"
          ]
        }
      ],
      "source": [
        "# Classification report \n",
        "\n",
        "from sklearn import metrics\n",
        "cr3 = metrics.classification_report(y_test,y_pred_e3)\n",
        "print(cr3)"
      ]
    },
    {
      "cell_type": "markdown",
      "id": "2YYgx4N18Zo9",
      "metadata": {
        "id": "2YYgx4N18Zo9"
      },
      "source": [
        "**Observations:**\n",
        "\n",
        "- The Dropout technique helped the model reduce the loss function of both train and validation. The F1 score also seems to be fine, with a decrease in the False Negative rate.\n",
        "\n",
        "## **Additional Content (Optional)**\n",
        "Now, let's try to use some of the Hyperparameter Optimization techniques such as RandomizedSearchCV and Keras Tuner to increase the F1 score of the model."
      ]
    },
    {
      "cell_type": "markdown",
      "id": "pRlkIdsHCdfI",
      "metadata": {
        "id": "pRlkIdsHCdfI"
      },
      "source": [
        "### **Model 5**\n",
        "\n",
        "#### **Random Search CV**\n",
        "\n",
        "Some important hyperparameters to look out for while optimizing neural networks are:\n",
        "\n",
        "* Type of Architecture\n",
        "\n",
        "* Number of Layers\n",
        "\n",
        "* Number of Neurons in a layer\n",
        "\n",
        "* Regularization hyperparameters\n",
        "\n",
        "* Learning Rate\n",
        "\n",
        "* Type of Optimizer\n",
        "\n",
        "* Dropout Rate"
      ]
    },
    {
      "cell_type": "code",
      "execution_count": null,
      "id": "ALblZ-lSCdJx",
      "metadata": {
        "id": "ALblZ-lSCdJx"
      },
      "outputs": [],
      "source": [
        "backend.clear_session()\n",
        "np.random.seed(42)\n",
        "import random\n",
        "random.seed(42)\n",
        "tf.random.set_seed(42)"
      ]
    },
    {
      "cell_type": "code",
      "execution_count": null,
      "id": "iGy-pFqeCdHC",
      "metadata": {
        "id": "iGy-pFqeCdHC"
      },
      "outputs": [],
      "source": [
        "def create_model_v4(lr,batch_size):  \n",
        "    np.random.seed(1337)\n",
        "    model = Sequential()\n",
        "    model.add(Dense(256,activation='relu',input_dim = X_train.shape[1]))\n",
        "    model.add(Dropout(0.3))\n",
        "    model.add(Dense(128,activation='relu'))\n",
        "    model.add(Dropout(0.3))\n",
        "    model.add(Dense(64,activation='relu'))\n",
        "    model.add(Dropout(0.2))\n",
        "    model.add(Dense(32,activation='relu')) \n",
        "    model.add(Dense(1, activation='sigmoid'))\n",
        "\n",
        "    # Compile model\n",
        "    optimizer = tf.keras.optimizers.Adam(learning_rate=lr)\n",
        "    model.compile(optimizer = optimizer,loss = 'binary_crossentropy', metrics = ['accuracy'])\n",
        "    return model"
      ]
    },
    {
      "cell_type": "markdown",
      "id": "M2PPhM3QEMfm",
      "metadata": {
        "id": "M2PPhM3QEMfm"
      },
      "source": [
        "We are using Random search to optimize two hyperparameters - **Batch size** & **Learning Rate**.\n",
        "\n",
        "You can also optimize other hyperparameters as mentioned above.\n",
        "\n"
      ]
    },
    {
      "cell_type": "code",
      "execution_count": null,
      "id": "oeOi6hHxCdEH",
      "metadata": {
        "id": "oeOi6hHxCdEH"
      },
      "outputs": [],
      "source": [
        "keras_estimator = KerasClassifier(build_fn=create_model_v4, verbose=1)\n",
        "\n",
        "# Define the grid search parameters\n",
        "param_random = {\n",
        "    'batch_size':[32, 64, 128],\n",
        "    \"lr\":[0.01,0.1,0.001],}\n",
        "\n",
        "kfold_splits = 3\n",
        "random = RandomizedSearchCV(estimator=keras_estimator,  \n",
        "                    verbose=1,\n",
        "                    cv=kfold_splits,  \n",
        "                    param_distributions=param_random,n_jobs=-1)"
      ]
    },
    {
      "cell_type": "code",
      "execution_count": null,
      "id": "WXsGZJUECdBI",
      "metadata": {
        "id": "WXsGZJUECdBI",
        "outputId": "00992ab2-4272-4e8e-813f-0b0b398903f2",
        "colab": {
          "base_uri": "https://localhost:8080/"
        }
      },
      "outputs": [
        {
          "output_type": "stream",
          "name": "stdout",
          "text": [
            "Fitting 3 folds for each of 9 candidates, totalling 27 fits\n",
            "384/384 [==============================] - 2s 4ms/step - loss: 0.6437 - accuracy: 0.7430 - val_loss: 0.5660 - val_accuracy: 0.7515\n",
            "Best: 0.750620 using {'lr': 0.01, 'batch_size': 32}\n"
          ]
        }
      ],
      "source": [
        "random_result = random.fit(X_train, y_train,validation_split=0.2,verbose=1) \n",
        "\n",
        "# Summarize results\n",
        "print(\"Best: %f using %s\" % (random_result.best_score_, random_result.best_params_))\n",
        "means = random_result.cv_results_['mean_test_score']\n",
        "stds = random_result.cv_results_['std_test_score']\n",
        "params = random_result.cv_results_['params']"
      ]
    },
    {
      "cell_type": "markdown",
      "id": "yxP3bQEtKaJL",
      "metadata": {
        "id": "yxP3bQEtKaJL"
      },
      "source": [
        "The best model is with the following configuration: \n",
        "\n",
        "( It may vary each time the code runs ) \n",
        "\n",
        "**Result of Random Search**\n",
        "\n",
        "{'batch_size': 32, 'learning_rate\": 0.01}\n",
        "\n",
        "Let's create the final model with the above mentioned configuration."
      ]
    },
    {
      "cell_type": "code",
      "execution_count": null,
      "id": "OhF3lqGWCc-A",
      "metadata": {
        "id": "OhF3lqGWCc-A",
        "outputId": "53fa9835-e0f6-4583-c7cd-c8e4a447ff8e",
        "colab": {
          "base_uri": "https://localhost:8080/"
        }
      },
      "outputs": [
        {
          "output_type": "stream",
          "name": "stdout",
          "text": [
            "Model: \"sequential_1\"\n",
            "_________________________________________________________________\n",
            " Layer (type)                Output Shape              Param #   \n",
            "=================================================================\n",
            " dense_5 (Dense)             (None, 256)               2560      \n",
            "                                                                 \n",
            " dropout_3 (Dropout)         (None, 256)               0         \n",
            "                                                                 \n",
            " dense_6 (Dense)             (None, 128)               32896     \n",
            "                                                                 \n",
            " dropout_4 (Dropout)         (None, 128)               0         \n",
            "                                                                 \n",
            " dense_7 (Dense)             (None, 64)                8256      \n",
            "                                                                 \n",
            " dropout_5 (Dropout)         (None, 64)                0         \n",
            "                                                                 \n",
            " dense_8 (Dense)             (None, 32)                2080      \n",
            "                                                                 \n",
            " dense_9 (Dense)             (None, 1)                 33        \n",
            "                                                                 \n",
            "=================================================================\n",
            "Total params: 45,825\n",
            "Trainable params: 45,825\n",
            "Non-trainable params: 0\n",
            "_________________________________________________________________\n"
          ]
        }
      ],
      "source": [
        "estimator_v4 = create_model_v4(batch_size=random_result.best_params_['batch_size'],lr=random_result.best_params_['lr'])\n",
        "\n",
        "estimator_v4.summary()"
      ]
    },
    {
      "cell_type": "code",
      "execution_count": null,
      "id": "zXAKKF5-Cc6_",
      "metadata": {
        "id": "zXAKKF5-Cc6_",
        "outputId": "12ccb560-c3ec-4fa8-fd24-927a97d7a9c0",
        "colab": {
          "base_uri": "https://localhost:8080/"
        }
      },
      "outputs": [
        {
          "output_type": "stream",
          "name": "stdout",
          "text": [
            "Epoch 1/50\n",
            "192/192 [==============================] - 1s 5ms/step - loss: 0.6610 - accuracy: 0.7387 - val_loss: 0.5622 - val_accuracy: 0.7515\n",
            "Epoch 2/50\n",
            "192/192 [==============================] - 1s 4ms/step - loss: 0.5627 - accuracy: 0.7504 - val_loss: 0.5536 - val_accuracy: 0.7515\n",
            "Epoch 3/50\n",
            "192/192 [==============================] - 1s 4ms/step - loss: 0.5579 - accuracy: 0.7504 - val_loss: 0.5510 - val_accuracy: 0.7515\n",
            "Epoch 4/50\n",
            "192/192 [==============================] - 1s 4ms/step - loss: 0.5544 - accuracy: 0.7504 - val_loss: 0.5450 - val_accuracy: 0.7515\n",
            "Epoch 5/50\n",
            "192/192 [==============================] - 1s 4ms/step - loss: 0.5531 - accuracy: 0.7503 - val_loss: 0.5417 - val_accuracy: 0.7515\n",
            "Epoch 6/50\n",
            "192/192 [==============================] - 1s 4ms/step - loss: 0.5590 - accuracy: 0.7503 - val_loss: 0.5491 - val_accuracy: 0.7515\n",
            "Epoch 7/50\n",
            "192/192 [==============================] - 1s 4ms/step - loss: 0.5583 - accuracy: 0.7491 - val_loss: 0.5477 - val_accuracy: 0.7515\n",
            "Epoch 8/50\n",
            "192/192 [==============================] - 1s 4ms/step - loss: 0.5537 - accuracy: 0.7508 - val_loss: 0.5447 - val_accuracy: 0.7515\n",
            "Epoch 9/50\n",
            "192/192 [==============================] - 1s 4ms/step - loss: 0.5588 - accuracy: 0.7499 - val_loss: 0.5486 - val_accuracy: 0.7515\n",
            "Epoch 10/50\n",
            "192/192 [==============================] - 1s 4ms/step - loss: 0.5545 - accuracy: 0.7504 - val_loss: 0.5556 - val_accuracy: 0.7515\n",
            "Epoch 11/50\n",
            "192/192 [==============================] - 1s 4ms/step - loss: 0.5562 - accuracy: 0.7504 - val_loss: 0.5483 - val_accuracy: 0.7515\n",
            "Epoch 12/50\n",
            "192/192 [==============================] - 1s 4ms/step - loss: 0.5565 - accuracy: 0.7504 - val_loss: 0.5481 - val_accuracy: 0.7515\n",
            "Epoch 13/50\n",
            "192/192 [==============================] - 1s 4ms/step - loss: 0.5538 - accuracy: 0.7504 - val_loss: 0.5431 - val_accuracy: 0.7515\n",
            "Epoch 14/50\n",
            "192/192 [==============================] - 1s 4ms/step - loss: 0.5521 - accuracy: 0.7504 - val_loss: 0.5504 - val_accuracy: 0.7515\n",
            "Epoch 15/50\n",
            "192/192 [==============================] - 1s 4ms/step - loss: 0.5543 - accuracy: 0.7504 - val_loss: 0.5594 - val_accuracy: 0.7515\n",
            "Epoch 16/50\n",
            "192/192 [==============================] - 1s 4ms/step - loss: 0.5526 - accuracy: 0.7504 - val_loss: 0.5409 - val_accuracy: 0.7515\n",
            "Epoch 17/50\n",
            "192/192 [==============================] - 1s 4ms/step - loss: 0.5571 - accuracy: 0.7504 - val_loss: 0.5510 - val_accuracy: 0.7515\n",
            "Epoch 18/50\n",
            "192/192 [==============================] - 1s 4ms/step - loss: 0.5578 - accuracy: 0.7504 - val_loss: 0.5485 - val_accuracy: 0.7515\n",
            "Epoch 19/50\n",
            "192/192 [==============================] - 1s 4ms/step - loss: 0.5571 - accuracy: 0.7504 - val_loss: 0.5566 - val_accuracy: 0.7515\n",
            "Epoch 20/50\n",
            "192/192 [==============================] - 1s 4ms/step - loss: 0.5580 - accuracy: 0.7504 - val_loss: 0.5568 - val_accuracy: 0.7515\n",
            "Epoch 21/50\n",
            "192/192 [==============================] - 1s 4ms/step - loss: 0.5591 - accuracy: 0.7504 - val_loss: 0.5568 - val_accuracy: 0.7515\n",
            "Epoch 22/50\n",
            "192/192 [==============================] - 1s 4ms/step - loss: 0.5590 - accuracy: 0.7504 - val_loss: 0.5564 - val_accuracy: 0.7515\n",
            "Epoch 23/50\n",
            "192/192 [==============================] - 1s 4ms/step - loss: 0.5589 - accuracy: 0.7504 - val_loss: 0.5525 - val_accuracy: 0.7515\n",
            "Epoch 24/50\n",
            "192/192 [==============================] - 1s 4ms/step - loss: 0.5534 - accuracy: 0.7504 - val_loss: 0.5570 - val_accuracy: 0.7515\n",
            "Epoch 25/50\n",
            "192/192 [==============================] - 1s 4ms/step - loss: 0.5550 - accuracy: 0.7504 - val_loss: 0.5572 - val_accuracy: 0.7515\n",
            "Epoch 26/50\n",
            "192/192 [==============================] - 1s 4ms/step - loss: 0.5593 - accuracy: 0.7502 - val_loss: 0.5487 - val_accuracy: 0.7515\n",
            "Epoch 27/50\n",
            "192/192 [==============================] - 1s 4ms/step - loss: 0.5533 - accuracy: 0.7504 - val_loss: 0.5502 - val_accuracy: 0.7515\n",
            "Epoch 28/50\n",
            "192/192 [==============================] - 1s 4ms/step - loss: 0.5546 - accuracy: 0.7504 - val_loss: 0.5590 - val_accuracy: 0.7515\n",
            "Epoch 29/50\n",
            "192/192 [==============================] - 1s 4ms/step - loss: 0.5523 - accuracy: 0.7504 - val_loss: 0.5360 - val_accuracy: 0.7515\n",
            "Epoch 30/50\n",
            "192/192 [==============================] - 1s 4ms/step - loss: 0.5446 - accuracy: 0.7504 - val_loss: 0.5348 - val_accuracy: 0.7515\n",
            "Epoch 31/50\n",
            "192/192 [==============================] - 1s 4ms/step - loss: 0.5519 - accuracy: 0.7504 - val_loss: 0.5446 - val_accuracy: 0.7515\n",
            "Epoch 32/50\n",
            "192/192 [==============================] - 1s 4ms/step - loss: 0.5537 - accuracy: 0.7504 - val_loss: 0.5394 - val_accuracy: 0.7515\n",
            "Epoch 33/50\n",
            "192/192 [==============================] - 1s 4ms/step - loss: 0.5498 - accuracy: 0.7503 - val_loss: 0.5319 - val_accuracy: 0.7515\n",
            "Epoch 34/50\n",
            "192/192 [==============================] - 1s 4ms/step - loss: 0.5475 - accuracy: 0.7504 - val_loss: 0.5373 - val_accuracy: 0.7515\n",
            "Epoch 35/50\n",
            "192/192 [==============================] - 1s 4ms/step - loss: 0.5483 - accuracy: 0.7504 - val_loss: 0.5390 - val_accuracy: 0.7515\n",
            "Epoch 36/50\n",
            "192/192 [==============================] - 1s 4ms/step - loss: 0.5480 - accuracy: 0.7504 - val_loss: 0.5424 - val_accuracy: 0.7515\n",
            "Epoch 37/50\n",
            "192/192 [==============================] - 1s 4ms/step - loss: 0.5466 - accuracy: 0.7504 - val_loss: 0.5494 - val_accuracy: 0.7515\n",
            "Epoch 38/50\n",
            "192/192 [==============================] - 1s 4ms/step - loss: 0.5554 - accuracy: 0.7504 - val_loss: 0.5396 - val_accuracy: 0.7515\n",
            "Epoch 39/50\n",
            "192/192 [==============================] - 1s 4ms/step - loss: 0.5448 - accuracy: 0.7504 - val_loss: 0.5340 - val_accuracy: 0.7515\n",
            "Epoch 40/50\n",
            "192/192 [==============================] - 1s 4ms/step - loss: 0.5553 - accuracy: 0.7504 - val_loss: 0.5446 - val_accuracy: 0.7515\n",
            "Epoch 41/50\n",
            "192/192 [==============================] - 1s 4ms/step - loss: 0.5480 - accuracy: 0.7504 - val_loss: 0.5341 - val_accuracy: 0.7515\n",
            "Epoch 42/50\n",
            "192/192 [==============================] - 1s 4ms/step - loss: 0.5407 - accuracy: 0.7504 - val_loss: 0.5415 - val_accuracy: 0.7515\n",
            "Epoch 43/50\n",
            "192/192 [==============================] - 1s 4ms/step - loss: 0.5572 - accuracy: 0.7501 - val_loss: 0.5389 - val_accuracy: 0.7515\n",
            "Epoch 44/50\n",
            "192/192 [==============================] - 1s 4ms/step - loss: 0.5459 - accuracy: 0.7504 - val_loss: 0.5360 - val_accuracy: 0.7515\n",
            "Epoch 45/50\n",
            "192/192 [==============================] - 1s 4ms/step - loss: 0.5471 - accuracy: 0.7504 - val_loss: 0.5265 - val_accuracy: 0.7515\n",
            "Epoch 46/50\n",
            "192/192 [==============================] - 1s 4ms/step - loss: 0.5415 - accuracy: 0.7504 - val_loss: 0.5307 - val_accuracy: 0.7515\n",
            "Epoch 47/50\n",
            "192/192 [==============================] - 1s 4ms/step - loss: 0.5480 - accuracy: 0.7504 - val_loss: 0.5366 - val_accuracy: 0.7515\n",
            "Epoch 48/50\n",
            "192/192 [==============================] - 1s 4ms/step - loss: 0.5458 - accuracy: 0.7504 - val_loss: 0.5369 - val_accuracy: 0.7515\n",
            "Epoch 49/50\n",
            "192/192 [==============================] - 1s 4ms/step - loss: 0.5442 - accuracy: 0.7504 - val_loss: 0.5298 - val_accuracy: 0.7515\n",
            "Epoch 50/50\n",
            "192/192 [==============================] - 1s 4ms/step - loss: 0.5398 - accuracy: 0.7504 - val_loss: 0.5273 - val_accuracy: 0.7515\n"
          ]
        }
      ],
      "source": [
        "optimizer = tf.keras.optimizers.Adam(random_result.best_params_['lr'])\n",
        "estimator_v4.compile(loss='binary_crossentropy',optimizer=optimizer,metrics=['accuracy'])\n",
        "history_4 = estimator_v4.fit(X_train, y_train, epochs=50, batch_size = 64, verbose=1,validation_split=0.2)"
      ]
    },
    {
      "cell_type": "code",
      "execution_count": null,
      "id": "HgEwoP9sCc3t",
      "metadata": {
        "id": "HgEwoP9sCc3t",
        "outputId": "a146d13a-3db5-4f66-839a-c79c860f558e",
        "colab": {
          "base_uri": "https://localhost:8080/",
          "height": 301
        }
      },
      "outputs": [
        {
          "output_type": "display_data",
          "data": {
            "text/plain": [
              "<Figure size 432x288 with 1 Axes>"
            ],
            "image/png": "[encoded data removed]"
          },
          "metadata": {}
        }
      ],
      "source": [
        "# Plotting Train Loss vs Validation Loss\n",
        "plt.plot(history_4.history['loss'])\n",
        "plt.plot(history_4.history['val_loss'])\n",
        "\n",
        "plt.title('model loss')\n",
        "plt.ylabel('Loss')\n",
        "plt.xlabel('Epoch')\n",
        "plt.legend(['train', 'validation'], loc='upper left')\n",
        "plt.show()"
      ]
    },
    {
      "cell_type": "markdown",
      "id": "LTMrkTaiBR03",
      "metadata": {
        "id": "LTMrkTaiBR03"
      },
      "source": [
        "**Observations:**\n",
        "\n",
        "- From the above plot, we observe that there is a noise in the training behavior of the model."
      ]
    },
    {
      "cell_type": "code",
      "execution_count": null,
      "id": "2ZNcU-P8Cc1K",
      "metadata": {
        "id": "2ZNcU-P8Cc1K",
        "outputId": "65663a03-e932-4c20-b0d1-cd67ecca2c70",
        "colab": {
          "base_uri": "https://localhost:8080/",
          "height": 302
        }
      },
      "outputs": [
        {
          "output_type": "stream",
          "name": "stdout",
          "text": [
            "Best Threshold=0.287153, G-Mean=0.662\n"
          ]
        },
        {
          "output_type": "display_data",
          "data": {
            "text/plain": [
              "<Figure size 432x288 with 1 Axes>"
            ],
            "image/png": "[encoded data removed]"
          },
          "metadata": {}
        }
      ],
      "source": [
        "# Predict probabilities\n",
        "yhat4 = estimator_v4.predict(X_test)\n",
        "\n",
        "# Keep probabilities for the positive outcome only\n",
        "yhat4 = yhat4[:, 0]\n",
        "\n",
        "# Calculate roc curves\n",
        "fpr, tpr, thresholds4 = roc_curve(y_test, yhat4)\n",
        "\n",
        "# Calculate the g-mean for each threshold\n",
        "gmeans4 = np.sqrt(tpr * (1-fpr))\n",
        "\n",
        "# Locate the index of the largest g-mean\n",
        "ix = np.argmax(gmeans4)\n",
        "print('Best Threshold=%f, G-Mean=%.3f' % (thresholds4[ix], gmeans4[ix]))\n",
        "\n",
        "# Plot the roc curve for the model\n",
        "pyplot.plot([0,1], [0,1], linestyle='--', label='No Skill')\n",
        "pyplot.plot(fpr, tpr, marker='.')\n",
        "pyplot.scatter(fpr[ix], tpr[ix], marker='o', color='black', label='Best')\n",
        "\n",
        "# Axis labels\n",
        "pyplot.xlabel('False Positive Rate')\n",
        "pyplot.ylabel('True Positive Rate')\n",
        "pyplot.legend()\n",
        "\n",
        "# Show the plot\n",
        "pyplot.show()"
      ]
    },
    {
      "cell_type": "code",
      "execution_count": null,
      "id": "QnPU-3mlCcyH",
      "metadata": {
        "id": "QnPU-3mlCcyH",
        "outputId": "6f488f95-a628-4e16-e821-849354d6042a",
        "colab": {
          "base_uri": "https://localhost:8080/"
        }
      },
      "outputs": [
        {
          "output_type": "execute_result",
          "data": {
            "text/plain": [
              "array([[False],\n",
              "       [ True],\n",
              "       [False],\n",
              "       ...,\n",
              "       [ True],\n",
              "       [ True],\n",
              "       [False]])"
            ]
          },
          "metadata": {},
          "execution_count": 87
        }
      ],
      "source": [
        "y_pred_e4 = estimator_v4.predict(X_test)\n",
        "y_pred_e4 = (y_pred_e4 > thresholds4[ix])\n",
        "y_pred_e4"
      ]
    },
    {
      "cell_type": "code",
      "execution_count": null,
      "id": "GNEWU9sCCcvb",
      "metadata": {
        "id": "GNEWU9sCCcvb",
        "outputId": "0f6895db-0900-467e-dae0-0302159a9cc5",
        "colab": {
          "base_uri": "https://localhost:8080/",
          "height": 268
        }
      },
      "outputs": [
        {
          "output_type": "display_data",
          "data": {
            "text/plain": [
              "<Figure size 432x288 with 2 Axes>"
            ],
            "image/png": "[encoded data removed]"
          },
          "metadata": {}
        }
      ],
      "source": [
        "# Calculating the confusion matrix \n",
        "from sklearn.metrics import confusion_matrix\n",
        "\n",
        "cm4 = confusion_matrix(y_test, y_pred_e4)\n",
        "labels = ['True Positive','False Negative','False Positive','True Negative']\n",
        "categories = [ 'Not Changing Job','Changing Job']\n",
        "make_confusion_matrix(cm4, \n",
        "                      group_names=labels,\n",
        "                      categories=categories, \n",
        "                      cmap='Blues')"
      ]
    },
    {
      "cell_type": "code",
      "execution_count": null,
      "id": "xiELRVysCcsZ",
      "metadata": {
        "id": "xiELRVysCcsZ",
        "outputId": "91816f99-16b1-45d6-eb35-ff354aa42272",
        "colab": {
          "base_uri": "https://localhost:8080/"
        }
      },
      "outputs": [
        {
          "output_type": "stream",
          "name": "stdout",
          "text": [
            "              precision    recall  f1-score   support\n",
            "\n",
            "           0       0.85      0.66      0.75      2877\n",
            "           1       0.39      0.66      0.49       955\n",
            "\n",
            "    accuracy                           0.66      3832\n",
            "   macro avg       0.62      0.66      0.62      3832\n",
            "weighted avg       0.74      0.66      0.68      3832\n",
            "\n"
          ]
        }
      ],
      "source": [
        "# Classification report \n",
        "from sklearn import metrics\n",
        "cr4 = metrics.classification_report(y_test,y_pred_e4)\n",
        "print(cr4)"
      ]
    },
    {
      "cell_type": "markdown",
      "id": "YJyvzz9zMu9D",
      "metadata": {
        "id": "YJyvzz9zMu9D"
      },
      "source": [
        "**Observations:**\n",
        "\n",
        "- Hyperparameter tuning is used here to get a better F1 score, but the F1 score may differ each time. \n",
        "\n",
        "- Other hyperparameters can also be tuned to get better performance on the metrics. \n",
        "\n",
        "- Here, the F1 score of the model has decreased in comparison to the previous best performance, as Random Search CV will choose the hyperparameters randomly, and hence has a very low chance of finding a highly optimal configuration. \n",
        "\n",
        "- So, our final model here can be **Model 4**, which uses the Dropout regularization technique and works on the imbalanced dataset."
      ]
    },
    {
      "cell_type": "markdown",
      "id": "w5RWDi3FJqQU",
      "metadata": {
        "id": "w5RWDi3FJqQU"
      },
      "source": [
        "### **Business Recommendations**"
      ]
    },
    {
      "cell_type": "markdown",
      "id": "laKrKarWJsWi",
      "metadata": {
        "id": "laKrKarWJsWi"
      },
      "source": [
        "* The HR department of the company can deploy the final model from this exercise to identify with a reasonable degree of accuracy whether an employee is likely to switch jobs or not, and this process seems to be easier and more time-efficient than other methods."
      ]
    },
    {
      "cell_type": "markdown",
      "id": "vIxGMeiPtwpU",
      "metadata": {
        "id": "vIxGMeiPtwpU"
      },
      "source": [
        "We encourage you to further look to optimize the model and come up with better results.\n",
        "\n",
        "**Happy Learning!**"
      ]
    }
  ],
  "metadata": {
    "accelerator": "GPU",
    "colab": {
      "collapsed_sections": [],
      "name": "Data Scientist Employee Attrition.ipynb",
      "provenance": []
    },
    "kernelspec": {
      "display_name": "Python 3 (ipykernel)",
      "language": "python",
      "name": "python3"
    },
    "language_info": {
      "codemirror_mode": {
        "name": "ipython",
        "version": 3
      },
      "file_extension": ".py",
      "mimetype": "text/x-python",
      "name": "python",
      "nbconvert_exporter": "python",
      "pygments_lexer": "ipython3",
      "version": "3.9.7"
    }
  },
  "nbformat": 4,
  "nbformat_minor": 5
}